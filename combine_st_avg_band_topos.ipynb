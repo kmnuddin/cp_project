{
 "cells": [
  {
   "cell_type": "code",
   "execution_count": 6,
   "metadata": {},
   "outputs": [],
   "source": [
    "import cv2\n",
    "import matplotlib.pyplot as plt\n",
    "import numpy as np\n",
    "from MNE_Pipeline import MNE_Repo_Mat\n",
    "import os\n",
    "from tqdm import tqdm"
   ]
  },
  {
   "cell_type": "code",
   "execution_count": 3,
   "metadata": {},
   "outputs": [
    {
     "name": "stderr",
     "output_type": "stream",
     "text": [
      "/home/kam/anaconda3/envs/mne/lib/python3.7/site-packages/mne/utils/docs.py:830: DeprecationWarning: Function read_montage is deprecated; ``read_montage`` is deprecated and will be removed in v0.20. Please use ``read_dig_fif``, ``read_dig_egi``, ``read_custom_montage``, or ``read_dig_captrack`` to read a digitization based on your needs instead; or ``make_standard_montage`` to create ``DigMontage`` based on template; or ``make_dig_montage`` to create a ``DigMontage`` out of np.arrays\n",
      "  warnings.warn(msg, category=DeprecationWarning)\n",
      "/home/kam/anaconda3/envs/mne/lib/python3.7/site-packages/mne/utils/docs.py:813: DeprecationWarning: Class Montage is deprecated; Montage class is deprecated and will be removed in v0.20. Please use DigMontage instead.\n",
      "  warnings.warn(msg, category=DeprecationWarning)\n",
      "/home/kam/CP Project/MNE_Pipeline.py:49: DeprecationWarning: Setting a montage using anything rather than DigMontage is deprecated and will raise an error in v0.20. Please use ``read_dig_fif``, ``read_dig_egi``, ``read_dig_polhemus_isotrak``, or ``read_dig_captrack`` ``read_dig_hpts``, ``read_dig_captrack`` or ``read_custom_montage`` to read a digitization based on your needs instead; or ``make_standard_montage`` to create ``DigMontage`` based on template; or ``make_dig_montage`` to create a ``DigMontage`` out of np.arrays.\n",
      "  self.info = mne.create_info(montage.ch_names, sfreq, ch_types='eeg', montage=montage)\n"
     ]
    }
   ],
   "source": [
    "mp = MNE_Repo_Mat()\n",
    "\n",
    "info = mp.construct_info()"
   ]
  },
  {
   "cell_type": "code",
   "execution_count": 2,
   "metadata": {},
   "outputs": [],
   "source": [
    "subjects = sorted([os.path.splitext(file)[0] for file in os.listdir('Data/') if file.endswith('.mat')])\n",
    "subjects_path = sorted(['Data/{}'.format(file) for file in os.listdir('Data/') if file.endswith('.mat')])"
   ]
  },
  {
   "cell_type": "code",
   "execution_count": 7,
   "metadata": {},
   "outputs": [],
   "source": [
    "n_of_trials_all_sub = dict()"
   ]
  },
  {
   "cell_type": "code",
   "execution_count": 8,
   "metadata": {},
   "outputs": [
    {
     "name": "stderr",
     "output_type": "stream",
     "text": [
      "50it [00:25,  1.97it/s]\n"
     ]
    }
   ],
   "source": [
    "for subject, path in tqdm(zip(subjects, subjects_path)):\n",
    "    mp.load_data(path)\n",
    "    n_of_trials_all_sub[subject] = mp.epochs_raw.shape[0]"
   ]
  },
  {
   "cell_type": "code",
   "execution_count": 11,
   "metadata": {},
   "outputs": [
    {
     "name": "stderr",
     "output_type": "stream",
     "text": [
      "100%|██████████| 50/50 [00:00<00:00, 115.28it/s]\n",
      "100%|██████████| 50/50 [00:00<00:00, 109.61it/s]\n",
      "100%|██████████| 50/50 [00:00<00:00, 108.78it/s]\n",
      "100%|██████████| 50/50 [00:00<00:00, 115.66it/s]\n",
      "100%|██████████| 50/50 [00:00<00:00, 109.51it/s]\n",
      "100%|██████████| 50/50 [00:00<00:00, 111.26it/s]\n",
      "100%|██████████| 50/50 [00:00<00:00, 112.07it/s]\n",
      "100%|██████████| 50/50 [00:00<00:00, 105.44it/s]\n",
      "100%|██████████| 50/50 [00:00<00:00, 106.03it/s]\n",
      "100%|██████████| 50/50 [00:00<00:00, 168.06it/s]\n",
      "100%|██████████| 50/50 [00:00<00:00, 99.88it/s]\n",
      "100%|██████████| 50/50 [00:00<00:00, 116.50it/s]\n",
      "100%|██████████| 50/50 [00:00<00:00, 136.33it/s]\n",
      "100%|██████████| 50/50 [00:00<00:00, 171.30it/s]\n",
      "100%|██████████| 50/50 [00:00<00:00, 166.94it/s]\n"
     ]
    }
   ],
   "source": [
    "mp.async_save_combined_topomap('N1', 750)"
   ]
  }
 ],
 "metadata": {
  "kernelspec": {
   "display_name": "Python 3",
   "language": "python",
   "name": "python3"
  },
  "language_info": {
   "codemirror_mode": {
    "name": "ipython",
    "version": 3
   },
   "file_extension": ".py",
   "mimetype": "text/x-python",
   "name": "python",
   "nbconvert_exporter": "python",
   "pygments_lexer": "ipython3",
   "version": "3.7.5"
  }
 },
 "nbformat": 4,
 "nbformat_minor": 2
}
