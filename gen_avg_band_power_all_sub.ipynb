{
 "cells": [
  {
   "cell_type": "code",
   "execution_count": 1,
   "metadata": {},
   "outputs": [],
   "source": [
    "from MNE_Pipeline import MNE_Repo_Mat\n",
    "import os\n",
    "import pandas as pd"
   ]
  },
  {
   "cell_type": "code",
   "execution_count": 2,
   "metadata": {},
   "outputs": [
    {
     "name": "stderr",
     "output_type": "stream",
     "text": [
      "/home/kam/anaconda3/envs/mne/lib/python3.7/site-packages/mne/utils/docs.py:830: DeprecationWarning: Function read_montage is deprecated; ``read_montage`` is deprecated and will be removed in v0.20. Please use ``read_dig_fif``, ``read_dig_egi``, ``read_custom_montage``, or ``read_dig_captrack`` to read a digitization based on your needs instead; or ``make_standard_montage`` to create ``DigMontage`` based on template; or ``make_dig_montage`` to create a ``DigMontage`` out of np.arrays\n",
      "  warnings.warn(msg, category=DeprecationWarning)\n",
      "/home/kam/anaconda3/envs/mne/lib/python3.7/site-packages/mne/utils/docs.py:813: DeprecationWarning: Class Montage is deprecated; Montage class is deprecated and will be removed in v0.20. Please use DigMontage instead.\n",
      "  warnings.warn(msg, category=DeprecationWarning)\n",
      "/home/kam/CP Project/MNE_Pipeline.py:49: DeprecationWarning: Setting a montage using anything rather than DigMontage is deprecated and will raise an error in v0.20. Please use ``read_dig_fif``, ``read_dig_egi``, ``read_dig_polhemus_isotrak``, or ``read_dig_captrack`` ``read_dig_hpts``, ``read_dig_captrack`` or ``read_custom_montage`` to read a digitization based on your needs instead; or ``make_standard_montage`` to create ``DigMontage`` based on template; or ``make_dig_montage`` to create a ``DigMontage`` out of np.arrays.\n",
      "  self.info = mne.create_info(montage.ch_names, sfreq, ch_types='eeg', montage=montage)\n"
     ]
    }
   ],
   "source": [
    "mp = MNE_Repo_Mat()\n",
    "\n",
    "info = mp.construct_info()"
   ]
  },
  {
   "cell_type": "code",
   "execution_count": 3,
   "metadata": {},
   "outputs": [],
   "source": [
    "subjects = sorted([os.path.splitext(file)[0] for file in os.listdir('Data/') if file.endswith('.mat')])\n",
    "subjects_path = sorted(['Data/{}'.format(file) for file in os.listdir('Data/') if file.endswith('.mat')])"
   ]
  },
  {
   "cell_type": "code",
   "execution_count": 10,
   "metadata": {},
   "outputs": [
    {
     "name": "stderr",
     "output_type": "stream",
     "text": [
      "100%|██████████| 750/750 [00:05<00:00, 148.66it/s]\n",
      "100%|██████████| 750/750 [00:04<00:00, 150.94it/s]\n",
      "100%|██████████| 750/750 [00:04<00:00, 150.26it/s]\n",
      "100%|██████████| 750/750 [00:04<00:00, 150.96it/s]\n",
      "100%|██████████| 750/750 [00:04<00:00, 150.73it/s]\n",
      "100%|██████████| 750/750 [00:04<00:00, 150.42it/s]\n",
      "100%|██████████| 750/750 [00:05<00:00, 149.90it/s]\n",
      "100%|██████████| 760/760 [00:05<00:00, 150.63it/s]\n",
      "100%|██████████| 750/750 [00:05<00:00, 149.34it/s]\n",
      "100%|██████████| 750/750 [00:05<00:00, 149.92it/s]\n",
      "100%|██████████| 750/750 [00:05<00:00, 148.82it/s]\n",
      "100%|██████████| 750/750 [00:05<00:00, 148.48it/s]\n",
      "100%|██████████| 750/750 [00:05<00:00, 149.73it/s]\n",
      "100%|██████████| 750/750 [00:05<00:00, 149.00it/s]\n",
      "100%|██████████| 750/750 [00:05<00:00, 149.12it/s]\n",
      "100%|██████████| 828/828 [00:05<00:00, 147.77it/s]\n",
      "100%|██████████| 1000/1000 [00:06<00:00, 148.94it/s]\n",
      "100%|██████████| 1000/1000 [00:06<00:00, 149.69it/s]\n",
      "100%|██████████| 1000/1000 [00:06<00:00, 149.69it/s]\n",
      "100%|██████████| 1000/1000 [00:06<00:00, 150.00it/s]\n",
      "100%|██████████| 1000/1000 [00:06<00:00, 150.51it/s]\n",
      "100%|██████████| 1000/1000 [00:06<00:00, 151.19it/s]\n",
      "100%|██████████| 1000/1000 [00:06<00:00, 149.69it/s]\n",
      "100%|██████████| 1000/1000 [00:06<00:00, 147.80it/s]\n",
      "100%|██████████| 1000/1000 [00:06<00:00, 148.52it/s]\n",
      "100%|██████████| 1000/1000 [00:06<00:00, 148.40it/s]\n",
      "100%|██████████| 996/996 [00:06<00:00, 150.23it/s]\n",
      "100%|██████████| 1000/1000 [00:06<00:00, 151.04it/s]\n",
      "100%|██████████| 1000/1000 [00:06<00:00, 148.61it/s]\n",
      "100%|██████████| 1000/1000 [00:06<00:00, 149.77it/s]\n",
      "100%|██████████| 1000/1000 [00:06<00:00, 148.31it/s]\n",
      "100%|██████████| 1000/1000 [00:06<00:00, 147.94it/s]\n",
      "100%|██████████| 1000/1000 [00:06<00:00, 147.74it/s]\n",
      "100%|██████████| 1000/1000 [00:06<00:00, 148.16it/s]\n",
      "100%|██████████| 1000/1000 [00:06<00:00, 149.45it/s]\n",
      "100%|██████████| 1000/1000 [00:06<00:00, 146.94it/s]\n",
      "100%|██████████| 1000/1000 [00:06<00:00, 147.31it/s]\n",
      "100%|██████████| 1000/1000 [00:06<00:00, 148.69it/s]\n",
      "100%|██████████| 1000/1000 [00:06<00:00, 147.66it/s]\n",
      "100%|██████████| 1000/1000 [00:06<00:00, 149.57it/s]\n",
      "100%|██████████| 1000/1000 [00:06<00:00, 146.32it/s]\n",
      "100%|██████████| 1000/1000 [00:06<00:00, 147.60it/s]\n",
      "100%|██████████| 1000/1000 [00:06<00:00, 149.22it/s]\n",
      "100%|██████████| 1000/1000 [00:06<00:00, 147.10it/s]\n",
      "100%|██████████| 1000/1000 [00:06<00:00, 144.39it/s]\n",
      "100%|██████████| 1000/1000 [00:06<00:00, 147.59it/s]\n",
      "100%|██████████| 1000/1000 [00:06<00:00, 144.95it/s]\n",
      "100%|██████████| 1282/1282 [00:08<00:00, 149.13it/s]\n",
      "100%|██████████| 1000/1000 [00:06<00:00, 149.82it/s]\n",
      "100%|██████████| 1000/1000 [00:06<00:00, 147.72it/s]\n"
     ]
    }
   ],
   "source": [
    "avg_band_powers = []\n",
    "for path in subjects_path:\n",
    "    mp.load_data(path)\n",
    "    avg_band_powers.append(mp.get_avg_band_power())"
   ]
  },
  {
   "cell_type": "code",
   "execution_count": 13,
   "metadata": {},
   "outputs": [],
   "source": [
    "df_all = pd.DataFrame()\n",
    "for trials in avg_band_powers:\n",
    "    df = pd.DataFrame(trials)\n",
    "    df_all = df_all.append(df)"
   ]
  },
  {
   "cell_type": "code",
   "execution_count": 15,
   "metadata": {},
   "outputs": [],
   "source": [
    "df_all.to_csv('band_power_topomap_new/avg_band_powers_all_subs.csv')"
   ]
  },
  {
   "cell_type": "code",
   "execution_count": 4,
   "metadata": {},
   "outputs": [],
   "source": [
    "from sklearn.preprocessing import MinMaxScaler\n",
    "\n",
    "df_all = pd.read_csv('band_power_topomap_new/avg_band_powers_all_subs.csv', index_col=0)\n",
    "\n",
    "# scaler = MinMaxScaler()\n",
    "\n",
    "# x = scaler.fit_transform(df_all.values)\n",
    "\n",
    "x = df_all.values"
   ]
  },
  {
   "cell_type": "code",
   "execution_count": 5,
   "metadata": {},
   "outputs": [
    {
     "name": "stderr",
     "output_type": "stream",
     "text": [
      "50it [02:13,  2.67s/it]\n",
      "50it [02:15,  2.70s/it]\n",
      "50it [02:15,  2.71s/it]\n",
      "50it [02:15,  2.71s/it]\n",
      "50it [02:15,  2.72s/it]\n",
      "50it [02:16,  2.72s/it]\n",
      "50it [02:16,  2.73s/it]\n",
      "50it [02:16,  2.74s/it]\n",
      "50it [02:16,  2.74s/it]\n",
      "50it [02:17,  2.74s/it]\n",
      "50it [02:17,  2.75s/it]\n",
      "50it [02:17,  2.75s/it]\n",
      "50it [02:17,  2.75s/it]\n",
      "50it [02:17,  2.76s/it]\n",
      "50it [02:18,  2.76s/it]\n"
     ]
    }
   ],
   "source": [
    "mp.async_save_band_power_topo_for_st('N1', x[0:750])"
   ]
  },
  {
   "cell_type": "code",
   "execution_count": 1,
   "metadata": {},
   "outputs": [
    {
     "data": {
      "text/plain": [
       "15.0"
      ]
     },
     "execution_count": 1,
     "metadata": {},
     "output_type": "execute_result"
    }
   ],
   "source": [
    "750/50"
   ]
  }
 ],
 "metadata": {
  "kernelspec": {
   "display_name": "Python 3",
   "language": "python",
   "name": "python3"
  },
  "language_info": {
   "codemirror_mode": {
    "name": "ipython",
    "version": 3
   },
   "file_extension": ".py",
   "mimetype": "text/x-python",
   "name": "python",
   "nbconvert_exporter": "python",
   "pygments_lexer": "ipython3",
   "version": "3.7.5"
  }
 },
 "nbformat": 4,
 "nbformat_minor": 2
}
