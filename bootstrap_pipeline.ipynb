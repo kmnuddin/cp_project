{
 "cells": [
  {
   "cell_type": "code",
   "execution_count": 1,
   "metadata": {},
   "outputs": [],
   "source": [
    "from MNE_Pipeline_ext import MNE_Repo_Mat_ext\n",
    "import pandas as pd\n",
    "import numpy as np\n",
    "from tqdm import tqdm\n",
    "import os"
   ]
  },
  {
   "cell_type": "code",
   "execution_count": 2,
   "metadata": {},
   "outputs": [],
   "source": [
    "mp = MNE_Repo_Mat_ext()\n"
   ]
  },
  {
   "cell_type": "code",
   "execution_count": 3,
   "metadata": {},
   "outputs": [],
   "source": [
    "def arrange_event_wise_RTs(RT, trigs):\n",
    "    RT_dict = dict()\n",
    "    event_ids = np.unique(trigs)\n",
    "    for event in event_ids:\n",
    "        indices = [i for i in range(len(trigs)) if trigs[i] == event]\n",
    "        RT_dict[str(event)] = RT[indices]\n",
    "        \n",
    "    return RT_dict"
   ]
  },
  {
   "cell_type": "code",
   "execution_count": 4,
   "metadata": {},
   "outputs": [],
   "source": [
    "subject_epoch_paths = [os.path.join('epochs', epoch) for epoch in sorted(os.listdir('epochs/'))]\n",
    "subjects = sorted([os.path.splitext(file)[0] for file in os.listdir('Data/') if file.endswith('.mat')])\n",
    "subjects_path = sorted(['Data/{}'.format(file) for file in os.listdir('Data/') if file.endswith('.mat')])"
   ]
  },
  {
   "cell_type": "code",
   "execution_count": 5,
   "metadata": {},
   "outputs": [
    {
     "name": "stderr",
     "output_type": "stream",
     "text": [
      "0it [00:00, ?it/s]/home/kam/CP Project/MNE_Pipeline.py:76: RuntimeWarning: This filename (epochs/N10_epoch.fif) does not conform to MNE naming conventions. All epochs files should end with -epo.fif, -epo.fif.gz, _epo.fif or _epo.fif.gz\n",
      "  self.epochs = mne.read_epochs(path, verbose=0)\n",
      "1it [00:20, 20.94s/it]/home/kam/CP Project/MNE_Pipeline.py:76: RuntimeWarning: This filename (epochs/N11_epoch.fif) does not conform to MNE naming conventions. All epochs files should end with -epo.fif, -epo.fif.gz, _epo.fif or _epo.fif.gz\n",
      "  self.epochs = mne.read_epochs(path, verbose=0)\n",
      "2it [00:41, 20.91s/it]/home/kam/CP Project/MNE_Pipeline.py:76: RuntimeWarning: This filename (epochs/N12_epoch.fif) does not conform to MNE naming conventions. All epochs files should end with -epo.fif, -epo.fif.gz, _epo.fif or _epo.fif.gz\n",
      "  self.epochs = mne.read_epochs(path, verbose=0)\n",
      "3it [01:02, 20.99s/it]/home/kam/CP Project/MNE_Pipeline.py:76: RuntimeWarning: This filename (epochs/N13_epoch.fif) does not conform to MNE naming conventions. All epochs files should end with -epo.fif, -epo.fif.gz, _epo.fif or _epo.fif.gz\n",
      "  self.epochs = mne.read_epochs(path, verbose=0)\n",
      "4it [01:23, 20.94s/it]/home/kam/CP Project/MNE_Pipeline.py:76: RuntimeWarning: This filename (epochs/N14_epoch.fif) does not conform to MNE naming conventions. All epochs files should end with -epo.fif, -epo.fif.gz, _epo.fif or _epo.fif.gz\n",
      "  self.epochs = mne.read_epochs(path, verbose=0)\n",
      "5it [01:44, 20.95s/it]/home/kam/CP Project/MNE_Pipeline.py:76: RuntimeWarning: This filename (epochs/N15_epoch.fif) does not conform to MNE naming conventions. All epochs files should end with -epo.fif, -epo.fif.gz, _epo.fif or _epo.fif.gz\n",
      "  self.epochs = mne.read_epochs(path, verbose=0)\n",
      "6it [02:05, 20.92s/it]/home/kam/CP Project/MNE_Pipeline.py:76: RuntimeWarning: This filename (epochs/N1_epoch.fif) does not conform to MNE naming conventions. All epochs files should end with -epo.fif, -epo.fif.gz, _epo.fif or _epo.fif.gz\n",
      "  self.epochs = mne.read_epochs(path, verbose=0)\n",
      "7it [02:26, 20.87s/it]/home/kam/CP Project/MNE_Pipeline.py:76: RuntimeWarning: This filename (epochs/N2_epoch.fif) does not conform to MNE naming conventions. All epochs files should end with -epo.fif, -epo.fif.gz, _epo.fif or _epo.fif.gz\n",
      "  self.epochs = mne.read_epochs(path, verbose=0)\n",
      "8it [02:47, 20.85s/it]/home/kam/CP Project/MNE_Pipeline.py:76: RuntimeWarning: This filename (epochs/N3_epoch.fif) does not conform to MNE naming conventions. All epochs files should end with -epo.fif, -epo.fif.gz, _epo.fif or _epo.fif.gz\n",
      "  self.epochs = mne.read_epochs(path, verbose=0)\n",
      "9it [03:08, 20.89s/it]/home/kam/CP Project/MNE_Pipeline.py:76: RuntimeWarning: This filename (epochs/N4_epoch.fif) does not conform to MNE naming conventions. All epochs files should end with -epo.fif, -epo.fif.gz, _epo.fif or _epo.fif.gz\n",
      "  self.epochs = mne.read_epochs(path, verbose=0)\n",
      "10it [03:29, 20.89s/it]/home/kam/CP Project/MNE_Pipeline.py:76: RuntimeWarning: This filename (epochs/N5_epoch.fif) does not conform to MNE naming conventions. All epochs files should end with -epo.fif, -epo.fif.gz, _epo.fif or _epo.fif.gz\n",
      "  self.epochs = mne.read_epochs(path, verbose=0)\n",
      "11it [03:49, 20.87s/it]/home/kam/CP Project/MNE_Pipeline.py:76: RuntimeWarning: This filename (epochs/N6_epoch.fif) does not conform to MNE naming conventions. All epochs files should end with -epo.fif, -epo.fif.gz, _epo.fif or _epo.fif.gz\n",
      "  self.epochs = mne.read_epochs(path, verbose=0)\n",
      "12it [04:10, 20.89s/it]/home/kam/CP Project/MNE_Pipeline.py:76: RuntimeWarning: This filename (epochs/N7_epoch.fif) does not conform to MNE naming conventions. All epochs files should end with -epo.fif, -epo.fif.gz, _epo.fif or _epo.fif.gz\n",
      "  self.epochs = mne.read_epochs(path, verbose=0)\n",
      "13it [04:31, 20.84s/it]/home/kam/CP Project/MNE_Pipeline.py:76: RuntimeWarning: This filename (epochs/N8_epoch.fif) does not conform to MNE naming conventions. All epochs files should end with -epo.fif, -epo.fif.gz, _epo.fif or _epo.fif.gz\n",
      "  self.epochs = mne.read_epochs(path, verbose=0)\n",
      "14it [04:52, 20.82s/it]/home/kam/CP Project/MNE_Pipeline.py:76: RuntimeWarning: This filename (epochs/N9_epoch.fif) does not conform to MNE naming conventions. All epochs files should end with -epo.fif, -epo.fif.gz, _epo.fif or _epo.fif.gz\n",
      "  self.epochs = mne.read_epochs(path, verbose=0)\n",
      "15it [05:13, 20.85s/it]/home/kam/CP Project/MNE_Pipeline.py:76: RuntimeWarning: This filename (epochs/S10_epoch.fif) does not conform to MNE naming conventions. All epochs files should end with -epo.fif, -epo.fif.gz, _epo.fif or _epo.fif.gz\n",
      "  self.epochs = mne.read_epochs(path, verbose=0)\n",
      "16it [05:34, 20.90s/it]/home/kam/CP Project/MNE_Pipeline.py:76: RuntimeWarning: This filename (epochs/S11_epoch.fif) does not conform to MNE naming conventions. All epochs files should end with -epo.fif, -epo.fif.gz, _epo.fif or _epo.fif.gz\n",
      "  self.epochs = mne.read_epochs(path, verbose=0)\n",
      "17it [05:55, 20.90s/it]/home/kam/CP Project/MNE_Pipeline.py:76: RuntimeWarning: This filename (epochs/S12_epoch.fif) does not conform to MNE naming conventions. All epochs files should end with -epo.fif, -epo.fif.gz, _epo.fif or _epo.fif.gz\n",
      "  self.epochs = mne.read_epochs(path, verbose=0)\n",
      "18it [06:16, 20.90s/it]/home/kam/CP Project/MNE_Pipeline.py:76: RuntimeWarning: This filename (epochs/S13_epoch.fif) does not conform to MNE naming conventions. All epochs files should end with -epo.fif, -epo.fif.gz, _epo.fif or _epo.fif.gz\n",
      "  self.epochs = mne.read_epochs(path, verbose=0)\n",
      "19it [06:36, 20.91s/it]/home/kam/CP Project/MNE_Pipeline.py:76: RuntimeWarning: This filename (epochs/S14_epoch.fif) does not conform to MNE naming conventions. All epochs files should end with -epo.fif, -epo.fif.gz, _epo.fif or _epo.fif.gz\n",
      "  self.epochs = mne.read_epochs(path, verbose=0)\n",
      "20it [06:57, 20.92s/it]/home/kam/CP Project/MNE_Pipeline.py:76: RuntimeWarning: This filename (epochs/S15_epoch.fif) does not conform to MNE naming conventions. All epochs files should end with -epo.fif, -epo.fif.gz, _epo.fif or _epo.fif.gz\n",
      "  self.epochs = mne.read_epochs(path, verbose=0)\n",
      "21it [07:18, 20.95s/it]/home/kam/CP Project/MNE_Pipeline.py:76: RuntimeWarning: This filename (epochs/S16_epoch.fif) does not conform to MNE naming conventions. All epochs files should end with -epo.fif, -epo.fif.gz, _epo.fif or _epo.fif.gz\n",
      "  self.epochs = mne.read_epochs(path, verbose=0)\n",
      "22it [07:40, 21.00s/it]/home/kam/CP Project/MNE_Pipeline.py:76: RuntimeWarning: This filename (epochs/S17_epoch.fif) does not conform to MNE naming conventions. All epochs files should end with -epo.fif, -epo.fif.gz, _epo.fif or _epo.fif.gz\n",
      "  self.epochs = mne.read_epochs(path, verbose=0)\n",
      "23it [08:01, 21.01s/it]/home/kam/CP Project/MNE_Pipeline.py:76: RuntimeWarning: This filename (epochs/S18_epoch.fif) does not conform to MNE naming conventions. All epochs files should end with -epo.fif, -epo.fif.gz, _epo.fif or _epo.fif.gz\n",
      "  self.epochs = mne.read_epochs(path, verbose=0)\n",
      "24it [08:22, 21.00s/it]/home/kam/CP Project/MNE_Pipeline.py:76: RuntimeWarning: This filename (epochs/S19_epoch.fif) does not conform to MNE naming conventions. All epochs files should end with -epo.fif, -epo.fif.gz, _epo.fif or _epo.fif.gz\n",
      "  self.epochs = mne.read_epochs(path, verbose=0)\n",
      "25it [08:43, 21.01s/it]/home/kam/CP Project/MNE_Pipeline.py:76: RuntimeWarning: This filename (epochs/S1_epoch.fif) does not conform to MNE naming conventions. All epochs files should end with -epo.fif, -epo.fif.gz, _epo.fif or _epo.fif.gz\n",
      "  self.epochs = mne.read_epochs(path, verbose=0)\n",
      "26it [09:03, 20.94s/it]/home/kam/CP Project/MNE_Pipeline.py:76: RuntimeWarning: This filename (epochs/S20_epoch.fif) does not conform to MNE naming conventions. All epochs files should end with -epo.fif, -epo.fif.gz, _epo.fif or _epo.fif.gz\n",
      "  self.epochs = mne.read_epochs(path, verbose=0)\n",
      "27it [09:24, 20.97s/it]/home/kam/CP Project/MNE_Pipeline.py:76: RuntimeWarning: This filename (epochs/S21_epoch.fif) does not conform to MNE naming conventions. All epochs files should end with -epo.fif, -epo.fif.gz, _epo.fif or _epo.fif.gz\n",
      "  self.epochs = mne.read_epochs(path, verbose=0)\n",
      "28it [09:45, 20.94s/it]/home/kam/CP Project/MNE_Pipeline.py:76: RuntimeWarning: This filename (epochs/S2_epoch.fif) does not conform to MNE naming conventions. All epochs files should end with -epo.fif, -epo.fif.gz, _epo.fif or _epo.fif.gz\n",
      "  self.epochs = mne.read_epochs(path, verbose=0)\n"
     ]
    },
    {
     "name": "stderr",
     "output_type": "stream",
     "text": [
      "29it [10:06, 20.93s/it]/home/kam/CP Project/MNE_Pipeline.py:76: RuntimeWarning: This filename (epochs/S3_epoch.fif) does not conform to MNE naming conventions. All epochs files should end with -epo.fif, -epo.fif.gz, _epo.fif or _epo.fif.gz\n",
      "  self.epochs = mne.read_epochs(path, verbose=0)\n",
      "30it [10:27, 20.94s/it]/home/kam/CP Project/MNE_Pipeline.py:76: RuntimeWarning: This filename (epochs/S4_epoch.fif) does not conform to MNE naming conventions. All epochs files should end with -epo.fif, -epo.fif.gz, _epo.fif or _epo.fif.gz\n",
      "  self.epochs = mne.read_epochs(path, verbose=0)\n",
      "31it [10:48, 20.98s/it]/home/kam/CP Project/MNE_Pipeline.py:76: RuntimeWarning: This filename (epochs/S5_epoch.fif) does not conform to MNE naming conventions. All epochs files should end with -epo.fif, -epo.fif.gz, _epo.fif or _epo.fif.gz\n",
      "  self.epochs = mne.read_epochs(path, verbose=0)\n",
      "32it [11:09, 21.02s/it]/home/kam/CP Project/MNE_Pipeline.py:76: RuntimeWarning: This filename (epochs/S6_epoch.fif) does not conform to MNE naming conventions. All epochs files should end with -epo.fif, -epo.fif.gz, _epo.fif or _epo.fif.gz\n",
      "  self.epochs = mne.read_epochs(path, verbose=0)\n",
      "33it [11:30, 21.01s/it]/home/kam/CP Project/MNE_Pipeline.py:76: RuntimeWarning: This filename (epochs/S7_epoch.fif) does not conform to MNE naming conventions. All epochs files should end with -epo.fif, -epo.fif.gz, _epo.fif or _epo.fif.gz\n",
      "  self.epochs = mne.read_epochs(path, verbose=0)\n",
      "34it [11:51, 21.00s/it]/home/kam/CP Project/MNE_Pipeline.py:76: RuntimeWarning: This filename (epochs/S8_epoch.fif) does not conform to MNE naming conventions. All epochs files should end with -epo.fif, -epo.fif.gz, _epo.fif or _epo.fif.gz\n",
      "  self.epochs = mne.read_epochs(path, verbose=0)\n",
      "35it [12:12, 21.01s/it]/home/kam/CP Project/MNE_Pipeline.py:76: RuntimeWarning: This filename (epochs/S9_epoch.fif) does not conform to MNE naming conventions. All epochs files should end with -epo.fif, -epo.fif.gz, _epo.fif or _epo.fif.gz\n",
      "  self.epochs = mne.read_epochs(path, verbose=0)\n",
      "36it [12:33, 21.02s/it]/home/kam/CP Project/MNE_Pipeline.py:76: RuntimeWarning: This filename (epochs/T10_epoch.fif) does not conform to MNE naming conventions. All epochs files should end with -epo.fif, -epo.fif.gz, _epo.fif or _epo.fif.gz\n",
      "  self.epochs = mne.read_epochs(path, verbose=0)\n",
      "37it [12:54, 20.99s/it]/home/kam/CP Project/MNE_Pipeline.py:76: RuntimeWarning: This filename (epochs/T11_epoch.fif) does not conform to MNE naming conventions. All epochs files should end with -epo.fif, -epo.fif.gz, _epo.fif or _epo.fif.gz\n",
      "  self.epochs = mne.read_epochs(path, verbose=0)\n",
      "38it [13:15, 21.00s/it]/home/kam/CP Project/MNE_Pipeline.py:76: RuntimeWarning: This filename (epochs/T12_epoch.fif) does not conform to MNE naming conventions. All epochs files should end with -epo.fif, -epo.fif.gz, _epo.fif or _epo.fif.gz\n",
      "  self.epochs = mne.read_epochs(path, verbose=0)\n",
      "39it [13:36, 20.99s/it]/home/kam/CP Project/MNE_Pipeline.py:76: RuntimeWarning: This filename (epochs/T13_epoch.fif) does not conform to MNE naming conventions. All epochs files should end with -epo.fif, -epo.fif.gz, _epo.fif or _epo.fif.gz\n",
      "  self.epochs = mne.read_epochs(path, verbose=0)\n",
      "40it [13:57, 20.98s/it]/home/kam/CP Project/MNE_Pipeline.py:76: RuntimeWarning: This filename (epochs/T14_epoch.fif) does not conform to MNE naming conventions. All epochs files should end with -epo.fif, -epo.fif.gz, _epo.fif or _epo.fif.gz\n",
      "  self.epochs = mne.read_epochs(path, verbose=0)\n",
      "41it [14:18, 20.98s/it]/home/kam/CP Project/MNE_Pipeline.py:76: RuntimeWarning: This filename (epochs/T1_epoch.fif) does not conform to MNE naming conventions. All epochs files should end with -epo.fif, -epo.fif.gz, _epo.fif or _epo.fif.gz\n",
      "  self.epochs = mne.read_epochs(path, verbose=0)\n",
      "42it [14:39, 20.97s/it]/home/kam/CP Project/MNE_Pipeline.py:76: RuntimeWarning: This filename (epochs/T2_epoch.fif) does not conform to MNE naming conventions. All epochs files should end with -epo.fif, -epo.fif.gz, _epo.fif or _epo.fif.gz\n",
      "  self.epochs = mne.read_epochs(path, verbose=0)\n",
      "43it [15:00, 20.94s/it]/home/kam/CP Project/MNE_Pipeline.py:76: RuntimeWarning: This filename (epochs/T3_epoch.fif) does not conform to MNE naming conventions. All epochs files should end with -epo.fif, -epo.fif.gz, _epo.fif or _epo.fif.gz\n",
      "  self.epochs = mne.read_epochs(path, verbose=0)\n",
      "44it [15:21, 20.95s/it]/home/kam/CP Project/MNE_Pipeline.py:76: RuntimeWarning: This filename (epochs/T4_epoch.fif) does not conform to MNE naming conventions. All epochs files should end with -epo.fif, -epo.fif.gz, _epo.fif or _epo.fif.gz\n",
      "  self.epochs = mne.read_epochs(path, verbose=0)\n",
      "45it [15:42, 21.00s/it]/home/kam/CP Project/MNE_Pipeline.py:76: RuntimeWarning: This filename (epochs/T5_epoch.fif) does not conform to MNE naming conventions. All epochs files should end with -epo.fif, -epo.fif.gz, _epo.fif or _epo.fif.gz\n",
      "  self.epochs = mne.read_epochs(path, verbose=0)\n",
      "46it [16:03, 21.00s/it]/home/kam/CP Project/MNE_Pipeline.py:76: RuntimeWarning: This filename (epochs/T6_epoch.fif) does not conform to MNE naming conventions. All epochs files should end with -epo.fif, -epo.fif.gz, _epo.fif or _epo.fif.gz\n",
      "  self.epochs = mne.read_epochs(path, verbose=0)\n",
      "47it [16:24, 20.99s/it]/home/kam/CP Project/MNE_Pipeline.py:76: RuntimeWarning: This filename (epochs/T7_epoch.fif) does not conform to MNE naming conventions. All epochs files should end with -epo.fif, -epo.fif.gz, _epo.fif or _epo.fif.gz\n",
      "  self.epochs = mne.read_epochs(path, verbose=0)\n",
      "48it [16:45, 21.07s/it]/home/kam/CP Project/MNE_Pipeline.py:76: RuntimeWarning: This filename (epochs/T8_epoch.fif) does not conform to MNE naming conventions. All epochs files should end with -epo.fif, -epo.fif.gz, _epo.fif or _epo.fif.gz\n",
      "  self.epochs = mne.read_epochs(path, verbose=0)\n",
      "49it [17:06, 21.05s/it]/home/kam/CP Project/MNE_Pipeline.py:76: RuntimeWarning: This filename (epochs/T9_epoch.fif) does not conform to MNE naming conventions. All epochs files should end with -epo.fif, -epo.fif.gz, _epo.fif or _epo.fif.gz\n",
      "  self.epochs = mne.read_epochs(path, verbose=0)\n",
      "50it [17:27, 20.96s/it]\n"
     ]
    }
   ],
   "source": [
    "for path, subject in tqdm(zip(subject_epoch_paths, subjects)):\n",
    "    epochs = mp.load_epochs(path)\n",
    "    mp.async_bootstrap_epochs(subject, epochs, iterations=500)"
   ]
  },
  {
   "cell_type": "code",
   "execution_count": 6,
   "metadata": {},
   "outputs": [],
   "source": [
    "correction_paths = [path for path in subject_epoch_paths if 'N2_' in path or 'N12_' in path or 'T4_' in path or 'T6_' in path]\n",
    "correction_subjects = [subject for subject in subjects if subject == 'N2' or subject == 'N12' or subject == 'T4' or subject == 'T6']"
   ]
  },
  {
   "cell_type": "code",
   "execution_count": 7,
   "metadata": {},
   "outputs": [
    {
     "name": "stderr",
     "output_type": "stream",
     "text": [
      "0it [00:00, ?it/s]/home/kam/CP Project/MNE_Pipeline.py:76: RuntimeWarning: This filename (epochs/N12_epoch.fif) does not conform to MNE naming conventions. All epochs files should end with -epo.fif, -epo.fif.gz, _epo.fif or _epo.fif.gz\n",
      "  self.epochs = mne.read_epochs(path, verbose=0)\n",
      "1it [00:08,  8.34s/it]/home/kam/CP Project/MNE_Pipeline.py:76: RuntimeWarning: This filename (epochs/N2_epoch.fif) does not conform to MNE naming conventions. All epochs files should end with -epo.fif, -epo.fif.gz, _epo.fif or _epo.fif.gz\n",
      "  self.epochs = mne.read_epochs(path, verbose=0)\n",
      "2it [00:16,  8.33s/it]/home/kam/CP Project/MNE_Pipeline.py:76: RuntimeWarning: This filename (epochs/T4_epoch.fif) does not conform to MNE naming conventions. All epochs files should end with -epo.fif, -epo.fif.gz, _epo.fif or _epo.fif.gz\n",
      "  self.epochs = mne.read_epochs(path, verbose=0)\n",
      "3it [00:24,  8.33s/it]/home/kam/CP Project/MNE_Pipeline.py:76: RuntimeWarning: This filename (epochs/T6_epoch.fif) does not conform to MNE naming conventions. All epochs files should end with -epo.fif, -epo.fif.gz, _epo.fif or _epo.fif.gz\n",
      "  self.epochs = mne.read_epochs(path, verbose=0)\n",
      "4it [00:33,  8.32s/it]\n"
     ]
    }
   ],
   "source": [
    "for path, subject in tqdm(zip(correction_paths, correction_subjects)):\n",
    "    epochs = mp.load_epochs(path)\n",
    "    mp.async_bootstrap_epochs(subject, epochs)"
   ]
  },
  {
   "cell_type": "code",
   "execution_count": 12,
   "metadata": {},
   "outputs": [],
   "source": [
    "bts_sample_path = [os.path.join('bootstrap_erps', subject) for subject in subjects]"
   ]
  },
  {
   "cell_type": "code",
   "execution_count": 14,
   "metadata": {},
   "outputs": [],
   "source": [
    "df = pd.DataFrame(columns=['subject', 'trig', 'indices'])"
   ]
  },
  {
   "cell_type": "code",
   "execution_count": null,
   "metadata": {},
   "outputs": [],
   "source": [
    "for path"
   ]
  }
 ],
 "metadata": {
  "kernelspec": {
   "display_name": "Python 3",
   "language": "python",
   "name": "python3"
  },
  "language_info": {
   "codemirror_mode": {
    "name": "ipython",
    "version": 3
   },
   "file_extension": ".py",
   "mimetype": "text/x-python",
   "name": "python",
   "nbconvert_exporter": "python",
   "pygments_lexer": "ipython3",
   "version": "3.7.5"
  }
 },
 "nbformat": 4,
 "nbformat_minor": 2
}
