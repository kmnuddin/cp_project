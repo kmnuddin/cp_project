{
 "cells": [
  {
   "cell_type": "code",
   "execution_count": 1,
   "metadata": {},
   "outputs": [],
   "source": [
    "from MNE_Pipeline_ext import MNE_Repo_Mat_ext\n",
    "import pandas as pd\n",
    "import numpy as np\n",
    "from tqdm import tqdm\n",
    "import os\n",
    "import pickle"
   ]
  },
  {
   "cell_type": "code",
   "execution_count": 2,
   "metadata": {},
   "outputs": [],
   "source": [
    "mp = MNE_Repo_Mat_ext()"
   ]
  },
  {
   "cell_type": "code",
   "execution_count": 3,
   "metadata": {},
   "outputs": [],
   "source": [
    "def arrange_event_wise_RTs(RT, trigs):\n",
    "    RT_dict = dict()\n",
    "    event_ids = np.unique(trigs)\n",
    "    for event in event_ids:\n",
    "        indices = [i for i in range(len(trigs)) if trigs[i] == event]\n",
    "        RT_dict[str(event)] = RT[indices]\n",
    "        \n",
    "    return RT_dict"
   ]
  },
  {
   "cell_type": "code",
   "execution_count": 4,
   "metadata": {},
   "outputs": [],
   "source": [
    "subjects = sorted([os.path.splitext(file)[0] for file in os.listdir('Data/') if file.endswith('.mat')])\n",
    "subjects_path = sorted(['Data/{}'.format(file) for file in os.listdir('Data/') if file.endswith('.mat')])\n",
    "subject_epoch_paths = [os.path.join('combined_epochs', subject + '_epoch' + '.fif') for subject in subjects]"
   ]
  },
  {
   "cell_type": "code",
   "execution_count": 28,
   "metadata": {},
   "outputs": [
    {
     "name": "stderr",
     "output_type": "stream",
     "text": [
      "50it [00:59,  1.18s/it]\n"
     ]
    }
   ],
   "source": [
    "RT_dict_sub = dict()\n",
    "for subject, subject_path in tqdm(zip(subjects, subjects_path)):\n",
    "    data = mp.load_data(subject_path)\n",
    "    RT = np.nan_to_num(data['RT'], nan=0)\n",
    "    trigs = data['trigs']\n",
    "    trigs = []\n",
    "    RT_dict_sub[subject] = arrange_event_wise_RTs(RT, trigs)"
   ]
  },
  {
   "cell_type": "code",
   "execution_count": 30,
   "metadata": {},
   "outputs": [],
   "source": [
    "with open('RT_dict_sub', 'wb') as f:\n",
    "    pickle.dump(RT_dict_sub, f)"
   ]
  },
  {
   "cell_type": "code",
   "execution_count": 5,
   "metadata": {},
   "outputs": [
    {
     "name": "stderr",
     "output_type": "stream",
     "text": [
      "0it [00:00, ?it/s]/home/kashraf/cp_project/MNE_Pipeline.py:76: RuntimeWarning: This filename (combined_epochs/N1_epoch.fif) does not conform to MNE naming conventions. All epochs files should end with -epo.fif, -epo.fif.gz, _epo.fif or _epo.fif.gz\n",
      "  self.epochs = mne.read_epochs(path, verbose=0)\n",
      "1it [00:06,  6.78s/it]/home/kashraf/cp_project/MNE_Pipeline.py:76: RuntimeWarning: This filename (combined_epochs/N10_epoch.fif) does not conform to MNE naming conventions. All epochs files should end with -epo.fif, -epo.fif.gz, _epo.fif or _epo.fif.gz\n",
      "  self.epochs = mne.read_epochs(path, verbose=0)\n",
      "2it [00:13,  6.79s/it]/home/kashraf/cp_project/MNE_Pipeline.py:76: RuntimeWarning: This filename (combined_epochs/N11_epoch.fif) does not conform to MNE naming conventions. All epochs files should end with -epo.fif, -epo.fif.gz, _epo.fif or _epo.fif.gz\n",
      "  self.epochs = mne.read_epochs(path, verbose=0)\n",
      "3it [00:20,  6.78s/it]/home/kashraf/cp_project/MNE_Pipeline.py:76: RuntimeWarning: This filename (combined_epochs/N12_epoch.fif) does not conform to MNE naming conventions. All epochs files should end with -epo.fif, -epo.fif.gz, _epo.fif or _epo.fif.gz\n",
      "  self.epochs = mne.read_epochs(path, verbose=0)\n",
      "4it [00:27,  6.79s/it]/home/kashraf/cp_project/MNE_Pipeline.py:76: RuntimeWarning: This filename (combined_epochs/N13_epoch.fif) does not conform to MNE naming conventions. All epochs files should end with -epo.fif, -epo.fif.gz, _epo.fif or _epo.fif.gz\n",
      "  self.epochs = mne.read_epochs(path, verbose=0)\n",
      "5it [00:33,  6.77s/it]/home/kashraf/cp_project/MNE_Pipeline.py:76: RuntimeWarning: This filename (combined_epochs/N14_epoch.fif) does not conform to MNE naming conventions. All epochs files should end with -epo.fif, -epo.fif.gz, _epo.fif or _epo.fif.gz\n",
      "  self.epochs = mne.read_epochs(path, verbose=0)\n",
      "6it [00:40,  6.75s/it]/home/kashraf/cp_project/MNE_Pipeline.py:76: RuntimeWarning: This filename (combined_epochs/N15_epoch.fif) does not conform to MNE naming conventions. All epochs files should end with -epo.fif, -epo.fif.gz, _epo.fif or _epo.fif.gz\n",
      "  self.epochs = mne.read_epochs(path, verbose=0)\n",
      "7it [00:47,  6.75s/it]/home/kashraf/cp_project/MNE_Pipeline.py:76: RuntimeWarning: This filename (combined_epochs/N2_epoch.fif) does not conform to MNE naming conventions. All epochs files should end with -epo.fif, -epo.fif.gz, _epo.fif or _epo.fif.gz\n",
      "  self.epochs = mne.read_epochs(path, verbose=0)\n",
      "8it [00:54,  6.74s/it]/home/kashraf/cp_project/MNE_Pipeline.py:76: RuntimeWarning: This filename (combined_epochs/N3_epoch.fif) does not conform to MNE naming conventions. All epochs files should end with -epo.fif, -epo.fif.gz, _epo.fif or _epo.fif.gz\n",
      "  self.epochs = mne.read_epochs(path, verbose=0)\n",
      "9it [01:00,  6.74s/it]/home/kashraf/cp_project/MNE_Pipeline.py:76: RuntimeWarning: This filename (combined_epochs/N4_epoch.fif) does not conform to MNE naming conventions. All epochs files should end with -epo.fif, -epo.fif.gz, _epo.fif or _epo.fif.gz\n",
      "  self.epochs = mne.read_epochs(path, verbose=0)\n",
      "10it [01:07,  6.74s/it]/home/kashraf/cp_project/MNE_Pipeline.py:76: RuntimeWarning: This filename (combined_epochs/N5_epoch.fif) does not conform to MNE naming conventions. All epochs files should end with -epo.fif, -epo.fif.gz, _epo.fif or _epo.fif.gz\n",
      "  self.epochs = mne.read_epochs(path, verbose=0)\n",
      "11it [01:14,  6.74s/it]/home/kashraf/cp_project/MNE_Pipeline.py:76: RuntimeWarning: This filename (combined_epochs/N6_epoch.fif) does not conform to MNE naming conventions. All epochs files should end with -epo.fif, -epo.fif.gz, _epo.fif or _epo.fif.gz\n",
      "  self.epochs = mne.read_epochs(path, verbose=0)\n",
      "12it [01:20,  6.73s/it]/home/kashraf/cp_project/MNE_Pipeline.py:76: RuntimeWarning: This filename (combined_epochs/N7_epoch.fif) does not conform to MNE naming conventions. All epochs files should end with -epo.fif, -epo.fif.gz, _epo.fif or _epo.fif.gz\n",
      "  self.epochs = mne.read_epochs(path, verbose=0)\n",
      "13it [01:27,  6.73s/it]/home/kashraf/cp_project/MNE_Pipeline.py:76: RuntimeWarning: This filename (combined_epochs/N8_epoch.fif) does not conform to MNE naming conventions. All epochs files should end with -epo.fif, -epo.fif.gz, _epo.fif or _epo.fif.gz\n",
      "  self.epochs = mne.read_epochs(path, verbose=0)\n",
      "14it [01:34,  6.75s/it]/home/kashraf/cp_project/MNE_Pipeline.py:76: RuntimeWarning: This filename (combined_epochs/N9_epoch.fif) does not conform to MNE naming conventions. All epochs files should end with -epo.fif, -epo.fif.gz, _epo.fif or _epo.fif.gz\n",
      "  self.epochs = mne.read_epochs(path, verbose=0)\n",
      "15it [01:41,  6.74s/it]/home/kashraf/cp_project/MNE_Pipeline.py:76: RuntimeWarning: This filename (combined_epochs/S1_epoch.fif) does not conform to MNE naming conventions. All epochs files should end with -epo.fif, -epo.fif.gz, _epo.fif or _epo.fif.gz\n",
      "  self.epochs = mne.read_epochs(path, verbose=0)\n",
      "16it [01:48,  6.76s/it]/home/kashraf/cp_project/MNE_Pipeline.py:76: RuntimeWarning: This filename (combined_epochs/S10_epoch.fif) does not conform to MNE naming conventions. All epochs files should end with -epo.fif, -epo.fif.gz, _epo.fif or _epo.fif.gz\n",
      "  self.epochs = mne.read_epochs(path, verbose=0)\n",
      "17it [01:55,  6.82s/it]/home/kashraf/cp_project/MNE_Pipeline.py:76: RuntimeWarning: This filename (combined_epochs/S11_epoch.fif) does not conform to MNE naming conventions. All epochs files should end with -epo.fif, -epo.fif.gz, _epo.fif or _epo.fif.gz\n",
      "  self.epochs = mne.read_epochs(path, verbose=0)\n",
      "18it [02:01,  6.84s/it]/home/kashraf/cp_project/MNE_Pipeline.py:76: RuntimeWarning: This filename (combined_epochs/S12_epoch.fif) does not conform to MNE naming conventions. All epochs files should end with -epo.fif, -epo.fif.gz, _epo.fif or _epo.fif.gz\n",
      "  self.epochs = mne.read_epochs(path, verbose=0)\n",
      "19it [02:08,  6.83s/it]/home/kashraf/cp_project/MNE_Pipeline.py:76: RuntimeWarning: This filename (combined_epochs/S13_epoch.fif) does not conform to MNE naming conventions. All epochs files should end with -epo.fif, -epo.fif.gz, _epo.fif or _epo.fif.gz\n",
      "  self.epochs = mne.read_epochs(path, verbose=0)\n",
      "20it [02:15,  6.85s/it]/home/kashraf/cp_project/MNE_Pipeline.py:76: RuntimeWarning: This filename (combined_epochs/S14_epoch.fif) does not conform to MNE naming conventions. All epochs files should end with -epo.fif, -epo.fif.gz, _epo.fif or _epo.fif.gz\n",
      "  self.epochs = mne.read_epochs(path, verbose=0)\n",
      "21it [02:22,  6.86s/it]/home/kashraf/cp_project/MNE_Pipeline.py:76: RuntimeWarning: This filename (combined_epochs/S15_epoch.fif) does not conform to MNE naming conventions. All epochs files should end with -epo.fif, -epo.fif.gz, _epo.fif or _epo.fif.gz\n",
      "  self.epochs = mne.read_epochs(path, verbose=0)\n",
      "22it [02:29,  6.86s/it]/home/kashraf/cp_project/MNE_Pipeline.py:76: RuntimeWarning: This filename (combined_epochs/S16_epoch.fif) does not conform to MNE naming conventions. All epochs files should end with -epo.fif, -epo.fif.gz, _epo.fif or _epo.fif.gz\n",
      "  self.epochs = mne.read_epochs(path, verbose=0)\n",
      "23it [02:36,  6.86s/it]/home/kashraf/cp_project/MNE_Pipeline.py:76: RuntimeWarning: This filename (combined_epochs/S17_epoch.fif) does not conform to MNE naming conventions. All epochs files should end with -epo.fif, -epo.fif.gz, _epo.fif or _epo.fif.gz\n",
      "  self.epochs = mne.read_epochs(path, verbose=0)\n",
      "24it [02:43,  6.86s/it]/home/kashraf/cp_project/MNE_Pipeline.py:76: RuntimeWarning: This filename (combined_epochs/S18_epoch.fif) does not conform to MNE naming conventions. All epochs files should end with -epo.fif, -epo.fif.gz, _epo.fif or _epo.fif.gz\n",
      "  self.epochs = mne.read_epochs(path, verbose=0)\n",
      "25it [02:49,  6.86s/it]/home/kashraf/cp_project/MNE_Pipeline.py:76: RuntimeWarning: This filename (combined_epochs/S19_epoch.fif) does not conform to MNE naming conventions. All epochs files should end with -epo.fif, -epo.fif.gz, _epo.fif or _epo.fif.gz\n",
      "  self.epochs = mne.read_epochs(path, verbose=0)\n",
      "26it [02:56,  6.86s/it]/home/kashraf/cp_project/MNE_Pipeline.py:76: RuntimeWarning: This filename (combined_epochs/S2_epoch.fif) does not conform to MNE naming conventions. All epochs files should end with -epo.fif, -epo.fif.gz, _epo.fif or _epo.fif.gz\n",
      "  self.epochs = mne.read_epochs(path, verbose=0)\n",
      "27it [03:03,  6.84s/it]/home/kashraf/cp_project/MNE_Pipeline.py:76: RuntimeWarning: This filename (combined_epochs/S20_epoch.fif) does not conform to MNE naming conventions. All epochs files should end with -epo.fif, -epo.fif.gz, _epo.fif or _epo.fif.gz\n",
      "  self.epochs = mne.read_epochs(path, verbose=0)\n"
     ]
    },
    {
     "name": "stderr",
     "output_type": "stream",
     "text": [
      "28it [03:10,  6.87s/it]/home/kashraf/cp_project/MNE_Pipeline.py:76: RuntimeWarning: This filename (combined_epochs/S21_epoch.fif) does not conform to MNE naming conventions. All epochs files should end with -epo.fif, -epo.fif.gz, _epo.fif or _epo.fif.gz\n",
      "  self.epochs = mne.read_epochs(path, verbose=0)\n",
      "29it [03:17,  6.88s/it]/home/kashraf/cp_project/MNE_Pipeline.py:76: RuntimeWarning: This filename (combined_epochs/S3_epoch.fif) does not conform to MNE naming conventions. All epochs files should end with -epo.fif, -epo.fif.gz, _epo.fif or _epo.fif.gz\n",
      "  self.epochs = mne.read_epochs(path, verbose=0)\n",
      "30it [03:24,  6.88s/it]/home/kashraf/cp_project/MNE_Pipeline.py:76: RuntimeWarning: This filename (combined_epochs/S4_epoch.fif) does not conform to MNE naming conventions. All epochs files should end with -epo.fif, -epo.fif.gz, _epo.fif or _epo.fif.gz\n",
      "  self.epochs = mne.read_epochs(path, verbose=0)\n",
      "31it [03:31,  6.88s/it]/home/kashraf/cp_project/MNE_Pipeline.py:76: RuntimeWarning: This filename (combined_epochs/S5_epoch.fif) does not conform to MNE naming conventions. All epochs files should end with -epo.fif, -epo.fif.gz, _epo.fif or _epo.fif.gz\n",
      "  self.epochs = mne.read_epochs(path, verbose=0)\n",
      "32it [03:38,  6.87s/it]/home/kashraf/cp_project/MNE_Pipeline.py:76: RuntimeWarning: This filename (combined_epochs/S6_epoch.fif) does not conform to MNE naming conventions. All epochs files should end with -epo.fif, -epo.fif.gz, _epo.fif or _epo.fif.gz\n",
      "  self.epochs = mne.read_epochs(path, verbose=0)\n",
      "33it [03:44,  6.88s/it]/home/kashraf/cp_project/MNE_Pipeline.py:76: RuntimeWarning: This filename (combined_epochs/S7_epoch.fif) does not conform to MNE naming conventions. All epochs files should end with -epo.fif, -epo.fif.gz, _epo.fif or _epo.fif.gz\n",
      "  self.epochs = mne.read_epochs(path, verbose=0)\n",
      "34it [03:51,  6.90s/it]/home/kashraf/cp_project/MNE_Pipeline.py:76: RuntimeWarning: This filename (combined_epochs/S8_epoch.fif) does not conform to MNE naming conventions. All epochs files should end with -epo.fif, -epo.fif.gz, _epo.fif or _epo.fif.gz\n",
      "  self.epochs = mne.read_epochs(path, verbose=0)\n",
      "35it [03:58,  6.86s/it]/home/kashraf/cp_project/MNE_Pipeline.py:76: RuntimeWarning: This filename (combined_epochs/S9_epoch.fif) does not conform to MNE naming conventions. All epochs files should end with -epo.fif, -epo.fif.gz, _epo.fif or _epo.fif.gz\n",
      "  self.epochs = mne.read_epochs(path, verbose=0)\n",
      "36it [04:05,  6.88s/it]/home/kashraf/cp_project/MNE_Pipeline.py:76: RuntimeWarning: This filename (combined_epochs/T1_epoch.fif) does not conform to MNE naming conventions. All epochs files should end with -epo.fif, -epo.fif.gz, _epo.fif or _epo.fif.gz\n",
      "  self.epochs = mne.read_epochs(path, verbose=0)\n",
      "37it [04:12,  6.88s/it]/home/kashraf/cp_project/MNE_Pipeline.py:76: RuntimeWarning: This filename (combined_epochs/T10_epoch.fif) does not conform to MNE naming conventions. All epochs files should end with -epo.fif, -epo.fif.gz, _epo.fif or _epo.fif.gz\n",
      "  self.epochs = mne.read_epochs(path, verbose=0)\n",
      "38it [04:19,  6.89s/it]/home/kashraf/cp_project/MNE_Pipeline.py:76: RuntimeWarning: This filename (combined_epochs/T11_epoch.fif) does not conform to MNE naming conventions. All epochs files should end with -epo.fif, -epo.fif.gz, _epo.fif or _epo.fif.gz\n",
      "  self.epochs = mne.read_epochs(path, verbose=0)\n",
      "39it [04:26,  6.86s/it]/home/kashraf/cp_project/MNE_Pipeline.py:76: RuntimeWarning: This filename (combined_epochs/T12_epoch.fif) does not conform to MNE naming conventions. All epochs files should end with -epo.fif, -epo.fif.gz, _epo.fif or _epo.fif.gz\n",
      "  self.epochs = mne.read_epochs(path, verbose=0)\n",
      "40it [04:33,  6.86s/it]/home/kashraf/cp_project/MNE_Pipeline.py:76: RuntimeWarning: This filename (combined_epochs/T13_epoch.fif) does not conform to MNE naming conventions. All epochs files should end with -epo.fif, -epo.fif.gz, _epo.fif or _epo.fif.gz\n",
      "  self.epochs = mne.read_epochs(path, verbose=0)\n",
      "41it [04:39,  6.87s/it]/home/kashraf/cp_project/MNE_Pipeline.py:76: RuntimeWarning: This filename (combined_epochs/T14_epoch.fif) does not conform to MNE naming conventions. All epochs files should end with -epo.fif, -epo.fif.gz, _epo.fif or _epo.fif.gz\n",
      "  self.epochs = mne.read_epochs(path, verbose=0)\n",
      "42it [04:46,  6.86s/it]/home/kashraf/cp_project/MNE_Pipeline.py:76: RuntimeWarning: This filename (combined_epochs/T2_epoch.fif) does not conform to MNE naming conventions. All epochs files should end with -epo.fif, -epo.fif.gz, _epo.fif or _epo.fif.gz\n",
      "  self.epochs = mne.read_epochs(path, verbose=0)\n",
      "43it [04:53,  6.85s/it]/home/kashraf/cp_project/MNE_Pipeline.py:76: RuntimeWarning: This filename (combined_epochs/T3_epoch.fif) does not conform to MNE naming conventions. All epochs files should end with -epo.fif, -epo.fif.gz, _epo.fif or _epo.fif.gz\n",
      "  self.epochs = mne.read_epochs(path, verbose=0)\n",
      "44it [05:00,  6.84s/it]/home/kashraf/cp_project/MNE_Pipeline.py:76: RuntimeWarning: This filename (combined_epochs/T4_epoch.fif) does not conform to MNE naming conventions. All epochs files should end with -epo.fif, -epo.fif.gz, _epo.fif or _epo.fif.gz\n",
      "  self.epochs = mne.read_epochs(path, verbose=0)\n",
      "45it [05:07,  6.85s/it]/home/kashraf/cp_project/MNE_Pipeline.py:76: RuntimeWarning: This filename (combined_epochs/T5_epoch.fif) does not conform to MNE naming conventions. All epochs files should end with -epo.fif, -epo.fif.gz, _epo.fif or _epo.fif.gz\n",
      "  self.epochs = mne.read_epochs(path, verbose=0)\n",
      "46it [05:14,  6.85s/it]/home/kashraf/cp_project/MNE_Pipeline.py:76: RuntimeWarning: This filename (combined_epochs/T6_epoch.fif) does not conform to MNE naming conventions. All epochs files should end with -epo.fif, -epo.fif.gz, _epo.fif or _epo.fif.gz\n",
      "  self.epochs = mne.read_epochs(path, verbose=0)\n",
      "47it [05:20,  6.85s/it]/home/kashraf/cp_project/MNE_Pipeline.py:76: RuntimeWarning: This filename (combined_epochs/T7_epoch.fif) does not conform to MNE naming conventions. All epochs files should end with -epo.fif, -epo.fif.gz, _epo.fif or _epo.fif.gz\n",
      "  self.epochs = mne.read_epochs(path, verbose=0)\n",
      "48it [05:27,  6.88s/it]/home/kashraf/cp_project/MNE_Pipeline.py:76: RuntimeWarning: This filename (combined_epochs/T8_epoch.fif) does not conform to MNE naming conventions. All epochs files should end with -epo.fif, -epo.fif.gz, _epo.fif or _epo.fif.gz\n",
      "  self.epochs = mne.read_epochs(path, verbose=0)\n",
      "49it [05:34,  6.87s/it]/home/kashraf/cp_project/MNE_Pipeline.py:76: RuntimeWarning: This filename (combined_epochs/T9_epoch.fif) does not conform to MNE naming conventions. All epochs files should end with -epo.fif, -epo.fif.gz, _epo.fif or _epo.fif.gz\n",
      "  self.epochs = mne.read_epochs(path, verbose=0)\n",
      "50it [05:41,  6.83s/it]\n"
     ]
    }
   ],
   "source": [
    "for path, subject in tqdm(zip(subject_epoch_paths, subjects)):\n",
    "    epochs = mp.load_epochs(path)\n",
    "    mp.async_bootstrap_epochs(subject, epochs, iterations=500)"
   ]
  },
  {
   "cell_type": "code",
   "execution_count": 10,
   "metadata": {},
   "outputs": [],
   "source": [
    "with open('bootstrap_erps_cl_vs_amb/T9', 'rb') as file:\n",
    "    di = pickle.load(file)"
   ]
  },
  {
   "cell_type": "code",
   "execution_count": 11,
   "metadata": {},
   "outputs": [
    {
     "data": {
      "text/plain": [
       "(500, 64, 500)"
      ]
     },
     "execution_count": 11,
     "metadata": {},
     "output_type": "execute_result"
    }
   ],
   "source": [
    "di['3'].shape"
   ]
  },
  {
   "cell_type": "code",
   "execution_count": 6,
   "metadata": {},
   "outputs": [],
   "source": [
    "correction_paths = [path for path in subject_epoch_paths if 'N2_' in path or 'N12_' in path or 'T4_' in path or 'T6_' in path]\n",
    "correction_subjects = [subject for subject in subjects if subject == 'N2' or subject == 'N12' or subject == 'T4' or subject == 'T6']"
   ]
  },
  {
   "cell_type": "code",
   "execution_count": 7,
   "metadata": {},
   "outputs": [
    {
     "name": "stderr",
     "output_type": "stream",
     "text": [
      "0it [00:00, ?it/s]/home/kam/CP Project/MNE_Pipeline.py:76: RuntimeWarning: This filename (epochs/N12_epoch.fif) does not conform to MNE naming conventions. All epochs files should end with -epo.fif, -epo.fif.gz, _epo.fif or _epo.fif.gz\n",
      "  self.epochs = mne.read_epochs(path, verbose=0)\n",
      "1it [00:08,  8.34s/it]/home/kam/CP Project/MNE_Pipeline.py:76: RuntimeWarning: This filename (epochs/N2_epoch.fif) does not conform to MNE naming conventions. All epochs files should end with -epo.fif, -epo.fif.gz, _epo.fif or _epo.fif.gz\n",
      "  self.epochs = mne.read_epochs(path, verbose=0)\n",
      "2it [00:16,  8.33s/it]/home/kam/CP Project/MNE_Pipeline.py:76: RuntimeWarning: This filename (epochs/T4_epoch.fif) does not conform to MNE naming conventions. All epochs files should end with -epo.fif, -epo.fif.gz, _epo.fif or _epo.fif.gz\n",
      "  self.epochs = mne.read_epochs(path, verbose=0)\n",
      "3it [00:24,  8.33s/it]/home/kam/CP Project/MNE_Pipeline.py:76: RuntimeWarning: This filename (epochs/T6_epoch.fif) does not conform to MNE naming conventions. All epochs files should end with -epo.fif, -epo.fif.gz, _epo.fif or _epo.fif.gz\n",
      "  self.epochs = mne.read_epochs(path, verbose=0)\n",
      "4it [00:33,  8.32s/it]\n"
     ]
    }
   ],
   "source": [
    "for path, subject in tqdm(zip(correction_paths, correction_subjects)):\n",
    "    epochs = mp.load_epochs(path)\n",
    "    mp.async_bootstrap_epochs(subject, epochs)"
   ]
  },
  {
   "cell_type": "code",
   "execution_count": 12,
   "metadata": {},
   "outputs": [],
   "source": [
    "bts_sample_path = [os.path.join('bootstrap_erps', subject) for subject in subjects]"
   ]
  },
  {
   "cell_type": "code",
   "execution_count": 14,
   "metadata": {},
   "outputs": [],
   "source": [
    "df = pd.DataFrame(columns=['subject', 'trig', 'indices'])"
   ]
  },
  {
   "cell_type": "code",
   "execution_count": null,
   "metadata": {},
   "outputs": [],
   "source": [
    "for path"
   ]
  }
 ],
 "metadata": {
  "kernelspec": {
   "display_name": "Python 3",
   "language": "python",
   "name": "python3"
  },
  "language_info": {
   "codemirror_mode": {
    "name": "ipython",
    "version": 3
   },
   "file_extension": ".py",
   "mimetype": "text/x-python",
   "name": "python",
   "nbconvert_exporter": "python",
   "pygments_lexer": "ipython3",
   "version": "3.7.6"
  }
 },
 "nbformat": 4,
 "nbformat_minor": 2
}
