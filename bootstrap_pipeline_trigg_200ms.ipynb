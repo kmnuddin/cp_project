{
 "cells": [
  {
   "cell_type": "code",
   "execution_count": 1,
   "metadata": {},
   "outputs": [],
   "source": [
    "from MNE_Pipeline_ext import MNE_Repo_Mat_ext\n",
    "from MNE_Pipeline import MNE_Repo_Mat\n",
    "import mne\n",
    "import pandas as pd\n",
    "import numpy as np\n",
    "from tqdm import tqdm\n",
    "import os\n",
    "import pickle"
   ]
  },
  {
   "cell_type": "code",
   "execution_count": 2,
   "metadata": {},
   "outputs": [
    {
     "name": "stderr",
     "output_type": "stream",
     "text": [
      "/home/kam/anaconda3/envs/mne/lib/python3.7/site-packages/mne/utils/docs.py:830: DeprecationWarning: Function read_montage is deprecated; ``read_montage`` is deprecated and will be removed in v0.20. Please use ``read_dig_fif``, ``read_dig_egi``, ``read_custom_montage``, or ``read_dig_captrack`` to read a digitization based on your needs instead; or ``make_standard_montage`` to create ``DigMontage`` based on template; or ``make_dig_montage`` to create a ``DigMontage`` out of np.arrays\n",
      "  warnings.warn(msg, category=DeprecationWarning)\n",
      "/home/kam/anaconda3/envs/mne/lib/python3.7/site-packages/mne/utils/docs.py:813: DeprecationWarning: Class Montage is deprecated; Montage class is deprecated and will be removed in v0.20. Please use DigMontage instead.\n",
      "  warnings.warn(msg, category=DeprecationWarning)\n",
      "/home/kam/CP Project/MNE_Pipeline.py:53: DeprecationWarning: Setting a montage using anything rather than DigMontage is deprecated and will raise an error in v0.20. Please use ``read_dig_fif``, ``read_dig_egi``, ``read_dig_polhemus_isotrak``, or ``read_dig_captrack`` ``read_dig_hpts``, ``read_dig_captrack`` or ``read_custom_montage`` to read a digitization based on your needs instead; or ``make_standard_montage`` to create ``DigMontage`` based on template; or ``make_dig_montage`` to create a ``DigMontage`` out of np.arrays.\n",
      "  self.info = mne.create_info(montage.ch_names, sfreq, ch_types='eeg', montage=montage)\n"
     ]
    }
   ],
   "source": [
    "mp = MNE_Repo_Mat()\n",
    "mp_ext = MNE_Repo_Mat_ext()\n",
    "info = mp.construct_info()"
   ]
  },
  {
   "cell_type": "code",
   "execution_count": 3,
   "metadata": {},
   "outputs": [],
   "source": [
    "subjects = sorted([os.path.splitext(file)[0] for file in os.listdir('Data/') if file.endswith('.mat')])\n",
    "subjects_path = sorted(['Data/{}'.format(file) for file in os.listdir('Data/') if file.endswith('.mat')])\n",
    "subject_epoch_paths = [os.path.join('epochs', subject + '_epoch' + '.fif') for subject in subjects]\n",
    "subject_epoch_combined_paths = [os.path.join('1_5_trigg_combined_epochs', subject + '.fif') for subject in subjects]\n",
    "subject_bts_erp_path = [os.path.join('bootstrap_erps_cl_vs_amb_2', subject) for subject in subjects]"
   ]
  },
  {
   "cell_type": "markdown",
   "metadata": {},
   "source": [
    "## Combine events and save new epochs"
   ]
  },
  {
   "cell_type": "code",
   "execution_count": 4,
   "metadata": {},
   "outputs": [
    {
     "name": "stderr",
     "output_type": "stream",
     "text": [
      "0it [00:00, ?it/s]/home/kam/CP Project/MNE_Pipeline.py:79: RuntimeWarning: This filename (epochs/N1_epoch.fif) does not conform to MNE naming conventions. All epochs files should end with -epo.fif, -epo.fif.gz, _epo.fif or _epo.fif.gz\n",
      "  self.epochs = mne.read_epochs(path, verbose=0)\n",
      "/home/kam/CP Project/MNE_Pipeline_ext.py:24: RuntimeWarning: This filename (1_5_trigg_combined_epochs/N1.fif) does not conform to MNE naming conventions. All epochs files should end with -epo.fif, -epo.fif.gz, _epo.fif or _epo.fif.gz\n",
      "  new_epochs.save(save_path)\n",
      "/home/kam/CP Project/MNE_Pipeline_ext.py:24: DeprecationWarning: overwrite defaults to True in 0.18 but will change to False in 0.19, set it explicitly to avoid this warning\n",
      "  new_epochs.save(save_path)\n",
      "1it [00:00,  1.44it/s]/home/kam/CP Project/MNE_Pipeline.py:79: RuntimeWarning: This filename (epochs/N10_epoch.fif) does not conform to MNE naming conventions. All epochs files should end with -epo.fif, -epo.fif.gz, _epo.fif or _epo.fif.gz\n",
      "  self.epochs = mne.read_epochs(path, verbose=0)\n",
      "/home/kam/CP Project/MNE_Pipeline_ext.py:24: RuntimeWarning: This filename (1_5_trigg_combined_epochs/N10.fif) does not conform to MNE naming conventions. All epochs files should end with -epo.fif, -epo.fif.gz, _epo.fif or _epo.fif.gz\n",
      "  new_epochs.save(save_path)\n",
      "/home/kam/CP Project/MNE_Pipeline_ext.py:24: DeprecationWarning: overwrite defaults to True in 0.18 but will change to False in 0.19, set it explicitly to avoid this warning\n",
      "  new_epochs.save(save_path)\n",
      "2it [00:01,  1.39it/s]/home/kam/CP Project/MNE_Pipeline.py:79: RuntimeWarning: This filename (epochs/N11_epoch.fif) does not conform to MNE naming conventions. All epochs files should end with -epo.fif, -epo.fif.gz, _epo.fif or _epo.fif.gz\n",
      "  self.epochs = mne.read_epochs(path, verbose=0)\n",
      "/home/kam/CP Project/MNE_Pipeline_ext.py:24: RuntimeWarning: This filename (1_5_trigg_combined_epochs/N11.fif) does not conform to MNE naming conventions. All epochs files should end with -epo.fif, -epo.fif.gz, _epo.fif or _epo.fif.gz\n",
      "  new_epochs.save(save_path)\n",
      "/home/kam/CP Project/MNE_Pipeline_ext.py:24: DeprecationWarning: overwrite defaults to True in 0.18 but will change to False in 0.19, set it explicitly to avoid this warning\n",
      "  new_epochs.save(save_path)\n",
      "3it [00:02,  1.34it/s]/home/kam/CP Project/MNE_Pipeline.py:79: RuntimeWarning: This filename (epochs/N12_epoch.fif) does not conform to MNE naming conventions. All epochs files should end with -epo.fif, -epo.fif.gz, _epo.fif or _epo.fif.gz\n",
      "  self.epochs = mne.read_epochs(path, verbose=0)\n",
      "/home/kam/CP Project/MNE_Pipeline_ext.py:24: RuntimeWarning: This filename (1_5_trigg_combined_epochs/N12.fif) does not conform to MNE naming conventions. All epochs files should end with -epo.fif, -epo.fif.gz, _epo.fif or _epo.fif.gz\n",
      "  new_epochs.save(save_path)\n",
      "/home/kam/CP Project/MNE_Pipeline_ext.py:24: DeprecationWarning: overwrite defaults to True in 0.18 but will change to False in 0.19, set it explicitly to avoid this warning\n",
      "  new_epochs.save(save_path)\n",
      "4it [00:03,  1.32it/s]/home/kam/CP Project/MNE_Pipeline.py:79: RuntimeWarning: This filename (epochs/N13_epoch.fif) does not conform to MNE naming conventions. All epochs files should end with -epo.fif, -epo.fif.gz, _epo.fif or _epo.fif.gz\n",
      "  self.epochs = mne.read_epochs(path, verbose=0)\n",
      "/home/kam/CP Project/MNE_Pipeline_ext.py:24: RuntimeWarning: This filename (1_5_trigg_combined_epochs/N13.fif) does not conform to MNE naming conventions. All epochs files should end with -epo.fif, -epo.fif.gz, _epo.fif or _epo.fif.gz\n",
      "  new_epochs.save(save_path)\n",
      "/home/kam/CP Project/MNE_Pipeline_ext.py:24: DeprecationWarning: overwrite defaults to True in 0.18 but will change to False in 0.19, set it explicitly to avoid this warning\n",
      "  new_epochs.save(save_path)\n",
      "5it [00:03,  1.31it/s]/home/kam/CP Project/MNE_Pipeline.py:79: RuntimeWarning: This filename (epochs/N14_epoch.fif) does not conform to MNE naming conventions. All epochs files should end with -epo.fif, -epo.fif.gz, _epo.fif or _epo.fif.gz\n",
      "  self.epochs = mne.read_epochs(path, verbose=0)\n",
      "/home/kam/CP Project/MNE_Pipeline_ext.py:24: RuntimeWarning: This filename (1_5_trigg_combined_epochs/N14.fif) does not conform to MNE naming conventions. All epochs files should end with -epo.fif, -epo.fif.gz, _epo.fif or _epo.fif.gz\n",
      "  new_epochs.save(save_path)\n",
      "/home/kam/CP Project/MNE_Pipeline_ext.py:24: DeprecationWarning: overwrite defaults to True in 0.18 but will change to False in 0.19, set it explicitly to avoid this warning\n",
      "  new_epochs.save(save_path)\n",
      "6it [00:04,  1.31it/s]/home/kam/CP Project/MNE_Pipeline.py:79: RuntimeWarning: This filename (epochs/N15_epoch.fif) does not conform to MNE naming conventions. All epochs files should end with -epo.fif, -epo.fif.gz, _epo.fif or _epo.fif.gz\n",
      "  self.epochs = mne.read_epochs(path, verbose=0)\n",
      "/home/kam/CP Project/MNE_Pipeline_ext.py:24: RuntimeWarning: This filename (1_5_trigg_combined_epochs/N15.fif) does not conform to MNE naming conventions. All epochs files should end with -epo.fif, -epo.fif.gz, _epo.fif or _epo.fif.gz\n",
      "  new_epochs.save(save_path)\n",
      "/home/kam/CP Project/MNE_Pipeline_ext.py:24: DeprecationWarning: overwrite defaults to True in 0.18 but will change to False in 0.19, set it explicitly to avoid this warning\n",
      "  new_epochs.save(save_path)\n",
      "7it [00:05,  1.29it/s]/home/kam/CP Project/MNE_Pipeline.py:79: RuntimeWarning: This filename (epochs/N2_epoch.fif) does not conform to MNE naming conventions. All epochs files should end with -epo.fif, -epo.fif.gz, _epo.fif or _epo.fif.gz\n",
      "  self.epochs = mne.read_epochs(path, verbose=0)\n",
      "/home/kam/CP Project/MNE_Pipeline_ext.py:24: RuntimeWarning: This filename (1_5_trigg_combined_epochs/N2.fif) does not conform to MNE naming conventions. All epochs files should end with -epo.fif, -epo.fif.gz, _epo.fif or _epo.fif.gz\n",
      "  new_epochs.save(save_path)\n",
      "/home/kam/CP Project/MNE_Pipeline_ext.py:24: DeprecationWarning: overwrite defaults to True in 0.18 but will change to False in 0.19, set it explicitly to avoid this warning\n",
      "  new_epochs.save(save_path)\n",
      "8it [00:06,  1.28it/s]/home/kam/CP Project/MNE_Pipeline.py:79: RuntimeWarning: This filename (epochs/N3_epoch.fif) does not conform to MNE naming conventions. All epochs files should end with -epo.fif, -epo.fif.gz, _epo.fif or _epo.fif.gz\n",
      "  self.epochs = mne.read_epochs(path, verbose=0)\n",
      "/home/kam/CP Project/MNE_Pipeline_ext.py:24: RuntimeWarning: This filename (1_5_trigg_combined_epochs/N3.fif) does not conform to MNE naming conventions. All epochs files should end with -epo.fif, -epo.fif.gz, _epo.fif or _epo.fif.gz\n",
      "  new_epochs.save(save_path)\n",
      "/home/kam/CP Project/MNE_Pipeline_ext.py:24: DeprecationWarning: overwrite defaults to True in 0.18 but will change to False in 0.19, set it explicitly to avoid this warning\n",
      "  new_epochs.save(save_path)\n",
      "9it [00:07,  1.28it/s]/home/kam/CP Project/MNE_Pipeline.py:79: RuntimeWarning: This filename (epochs/N4_epoch.fif) does not conform to MNE naming conventions. All epochs files should end with -epo.fif, -epo.fif.gz, _epo.fif or _epo.fif.gz\n",
      "  self.epochs = mne.read_epochs(path, verbose=0)\n",
      "/home/kam/CP Project/MNE_Pipeline_ext.py:24: RuntimeWarning: This filename (1_5_trigg_combined_epochs/N4.fif) does not conform to MNE naming conventions. All epochs files should end with -epo.fif, -epo.fif.gz, _epo.fif or _epo.fif.gz\n",
      "  new_epochs.save(save_path)\n",
      "/home/kam/CP Project/MNE_Pipeline_ext.py:24: DeprecationWarning: overwrite defaults to True in 0.18 but will change to False in 0.19, set it explicitly to avoid this warning\n",
      "  new_epochs.save(save_path)\n",
      "10it [00:07,  1.26it/s]/home/kam/CP Project/MNE_Pipeline.py:79: RuntimeWarning: This filename (epochs/N5_epoch.fif) does not conform to MNE naming conventions. All epochs files should end with -epo.fif, -epo.fif.gz, _epo.fif or _epo.fif.gz\n",
      "  self.epochs = mne.read_epochs(path, verbose=0)\n",
      "/home/kam/CP Project/MNE_Pipeline_ext.py:24: RuntimeWarning: This filename (1_5_trigg_combined_epochs/N5.fif) does not conform to MNE naming conventions. All epochs files should end with -epo.fif, -epo.fif.gz, _epo.fif or _epo.fif.gz\n",
      "  new_epochs.save(save_path)\n",
      "/home/kam/CP Project/MNE_Pipeline_ext.py:24: DeprecationWarning: overwrite defaults to True in 0.18 but will change to False in 0.19, set it explicitly to avoid this warning\n",
      "  new_epochs.save(save_path)\n"
     ]
    },
    {
     "name": "stderr",
     "output_type": "stream",
     "text": [
      "11it [00:08,  1.26it/s]/home/kam/CP Project/MNE_Pipeline.py:79: RuntimeWarning: This filename (epochs/N6_epoch.fif) does not conform to MNE naming conventions. All epochs files should end with -epo.fif, -epo.fif.gz, _epo.fif or _epo.fif.gz\n",
      "  self.epochs = mne.read_epochs(path, verbose=0)\n",
      "/home/kam/CP Project/MNE_Pipeline_ext.py:24: RuntimeWarning: This filename (1_5_trigg_combined_epochs/N6.fif) does not conform to MNE naming conventions. All epochs files should end with -epo.fif, -epo.fif.gz, _epo.fif or _epo.fif.gz\n",
      "  new_epochs.save(save_path)\n",
      "/home/kam/CP Project/MNE_Pipeline_ext.py:24: DeprecationWarning: overwrite defaults to True in 0.18 but will change to False in 0.19, set it explicitly to avoid this warning\n",
      "  new_epochs.save(save_path)\n",
      "12it [00:09,  1.27it/s]/home/kam/CP Project/MNE_Pipeline.py:79: RuntimeWarning: This filename (epochs/N7_epoch.fif) does not conform to MNE naming conventions. All epochs files should end with -epo.fif, -epo.fif.gz, _epo.fif or _epo.fif.gz\n",
      "  self.epochs = mne.read_epochs(path, verbose=0)\n",
      "/home/kam/CP Project/MNE_Pipeline_ext.py:24: RuntimeWarning: This filename (1_5_trigg_combined_epochs/N7.fif) does not conform to MNE naming conventions. All epochs files should end with -epo.fif, -epo.fif.gz, _epo.fif or _epo.fif.gz\n",
      "  new_epochs.save(save_path)\n",
      "/home/kam/CP Project/MNE_Pipeline_ext.py:24: DeprecationWarning: overwrite defaults to True in 0.18 but will change to False in 0.19, set it explicitly to avoid this warning\n",
      "  new_epochs.save(save_path)\n",
      "13it [00:10,  1.27it/s]/home/kam/CP Project/MNE_Pipeline.py:79: RuntimeWarning: This filename (epochs/N8_epoch.fif) does not conform to MNE naming conventions. All epochs files should end with -epo.fif, -epo.fif.gz, _epo.fif or _epo.fif.gz\n",
      "  self.epochs = mne.read_epochs(path, verbose=0)\n",
      "/home/kam/CP Project/MNE_Pipeline_ext.py:24: RuntimeWarning: This filename (1_5_trigg_combined_epochs/N8.fif) does not conform to MNE naming conventions. All epochs files should end with -epo.fif, -epo.fif.gz, _epo.fif or _epo.fif.gz\n",
      "  new_epochs.save(save_path)\n",
      "/home/kam/CP Project/MNE_Pipeline_ext.py:24: DeprecationWarning: overwrite defaults to True in 0.18 but will change to False in 0.19, set it explicitly to avoid this warning\n",
      "  new_epochs.save(save_path)\n",
      "14it [00:10,  1.28it/s]/home/kam/CP Project/MNE_Pipeline.py:79: RuntimeWarning: This filename (epochs/N9_epoch.fif) does not conform to MNE naming conventions. All epochs files should end with -epo.fif, -epo.fif.gz, _epo.fif or _epo.fif.gz\n",
      "  self.epochs = mne.read_epochs(path, verbose=0)\n",
      "/home/kam/CP Project/MNE_Pipeline_ext.py:24: RuntimeWarning: This filename (1_5_trigg_combined_epochs/N9.fif) does not conform to MNE naming conventions. All epochs files should end with -epo.fif, -epo.fif.gz, _epo.fif or _epo.fif.gz\n",
      "  new_epochs.save(save_path)\n",
      "/home/kam/CP Project/MNE_Pipeline_ext.py:24: DeprecationWarning: overwrite defaults to True in 0.18 but will change to False in 0.19, set it explicitly to avoid this warning\n",
      "  new_epochs.save(save_path)\n",
      "15it [00:11,  1.29it/s]/home/kam/CP Project/MNE_Pipeline.py:79: RuntimeWarning: This filename (epochs/S1_epoch.fif) does not conform to MNE naming conventions. All epochs files should end with -epo.fif, -epo.fif.gz, _epo.fif or _epo.fif.gz\n",
      "  self.epochs = mne.read_epochs(path, verbose=0)\n",
      "/home/kam/CP Project/MNE_Pipeline_ext.py:24: RuntimeWarning: This filename (1_5_trigg_combined_epochs/S1.fif) does not conform to MNE naming conventions. All epochs files should end with -epo.fif, -epo.fif.gz, _epo.fif or _epo.fif.gz\n",
      "  new_epochs.save(save_path)\n",
      "/home/kam/CP Project/MNE_Pipeline_ext.py:24: DeprecationWarning: overwrite defaults to True in 0.18 but will change to False in 0.19, set it explicitly to avoid this warning\n",
      "  new_epochs.save(save_path)\n",
      "16it [00:12,  1.26it/s]/home/kam/CP Project/MNE_Pipeline.py:79: RuntimeWarning: This filename (epochs/S10_epoch.fif) does not conform to MNE naming conventions. All epochs files should end with -epo.fif, -epo.fif.gz, _epo.fif or _epo.fif.gz\n",
      "  self.epochs = mne.read_epochs(path, verbose=0)\n",
      "/home/kam/CP Project/MNE_Pipeline_ext.py:24: RuntimeWarning: This filename (1_5_trigg_combined_epochs/S10.fif) does not conform to MNE naming conventions. All epochs files should end with -epo.fif, -epo.fif.gz, _epo.fif or _epo.fif.gz\n",
      "  new_epochs.save(save_path)\n",
      "/home/kam/CP Project/MNE_Pipeline_ext.py:24: DeprecationWarning: overwrite defaults to True in 0.18 but will change to False in 0.19, set it explicitly to avoid this warning\n",
      "  new_epochs.save(save_path)\n",
      "17it [00:13,  1.17it/s]/home/kam/CP Project/MNE_Pipeline.py:79: RuntimeWarning: This filename (epochs/S11_epoch.fif) does not conform to MNE naming conventions. All epochs files should end with -epo.fif, -epo.fif.gz, _epo.fif or _epo.fif.gz\n",
      "  self.epochs = mne.read_epochs(path, verbose=0)\n",
      "/home/kam/CP Project/MNE_Pipeline_ext.py:24: RuntimeWarning: This filename (1_5_trigg_combined_epochs/S11.fif) does not conform to MNE naming conventions. All epochs files should end with -epo.fif, -epo.fif.gz, _epo.fif or _epo.fif.gz\n",
      "  new_epochs.save(save_path)\n",
      "/home/kam/CP Project/MNE_Pipeline_ext.py:24: DeprecationWarning: overwrite defaults to True in 0.18 but will change to False in 0.19, set it explicitly to avoid this warning\n",
      "  new_epochs.save(save_path)\n",
      "18it [00:14,  1.12it/s]/home/kam/CP Project/MNE_Pipeline.py:79: RuntimeWarning: This filename (epochs/S12_epoch.fif) does not conform to MNE naming conventions. All epochs files should end with -epo.fif, -epo.fif.gz, _epo.fif or _epo.fif.gz\n",
      "  self.epochs = mne.read_epochs(path, verbose=0)\n",
      "/home/kam/CP Project/MNE_Pipeline_ext.py:24: RuntimeWarning: This filename (1_5_trigg_combined_epochs/S12.fif) does not conform to MNE naming conventions. All epochs files should end with -epo.fif, -epo.fif.gz, _epo.fif or _epo.fif.gz\n",
      "  new_epochs.save(save_path)\n",
      "/home/kam/CP Project/MNE_Pipeline_ext.py:24: DeprecationWarning: overwrite defaults to True in 0.18 but will change to False in 0.19, set it explicitly to avoid this warning\n",
      "  new_epochs.save(save_path)\n",
      "19it [00:15,  1.08it/s]/home/kam/CP Project/MNE_Pipeline.py:79: RuntimeWarning: This filename (epochs/S13_epoch.fif) does not conform to MNE naming conventions. All epochs files should end with -epo.fif, -epo.fif.gz, _epo.fif or _epo.fif.gz\n",
      "  self.epochs = mne.read_epochs(path, verbose=0)\n",
      "/home/kam/CP Project/MNE_Pipeline_ext.py:24: RuntimeWarning: This filename (1_5_trigg_combined_epochs/S13.fif) does not conform to MNE naming conventions. All epochs files should end with -epo.fif, -epo.fif.gz, _epo.fif or _epo.fif.gz\n",
      "  new_epochs.save(save_path)\n",
      "/home/kam/CP Project/MNE_Pipeline_ext.py:24: DeprecationWarning: overwrite defaults to True in 0.18 but will change to False in 0.19, set it explicitly to avoid this warning\n",
      "  new_epochs.save(save_path)\n",
      "20it [00:16,  1.04it/s]/home/kam/CP Project/MNE_Pipeline.py:79: RuntimeWarning: This filename (epochs/S14_epoch.fif) does not conform to MNE naming conventions. All epochs files should end with -epo.fif, -epo.fif.gz, _epo.fif or _epo.fif.gz\n",
      "  self.epochs = mne.read_epochs(path, verbose=0)\n",
      "/home/kam/CP Project/MNE_Pipeline_ext.py:24: RuntimeWarning: This filename (1_5_trigg_combined_epochs/S14.fif) does not conform to MNE naming conventions. All epochs files should end with -epo.fif, -epo.fif.gz, _epo.fif or _epo.fif.gz\n",
      "  new_epochs.save(save_path)\n",
      "/home/kam/CP Project/MNE_Pipeline_ext.py:24: DeprecationWarning: overwrite defaults to True in 0.18 but will change to False in 0.19, set it explicitly to avoid this warning\n",
      "  new_epochs.save(save_path)\n",
      "21it [00:17,  1.03it/s]/home/kam/CP Project/MNE_Pipeline.py:79: RuntimeWarning: This filename (epochs/S15_epoch.fif) does not conform to MNE naming conventions. All epochs files should end with -epo.fif, -epo.fif.gz, _epo.fif or _epo.fif.gz\n",
      "  self.epochs = mne.read_epochs(path, verbose=0)\n",
      "/home/kam/CP Project/MNE_Pipeline_ext.py:24: RuntimeWarning: This filename (1_5_trigg_combined_epochs/S15.fif) does not conform to MNE naming conventions. All epochs files should end with -epo.fif, -epo.fif.gz, _epo.fif or _epo.fif.gz\n",
      "  new_epochs.save(save_path)\n",
      "/home/kam/CP Project/MNE_Pipeline_ext.py:24: DeprecationWarning: overwrite defaults to True in 0.18 but will change to False in 0.19, set it explicitly to avoid this warning\n",
      "  new_epochs.save(save_path)\n"
     ]
    },
    {
     "name": "stderr",
     "output_type": "stream",
     "text": [
      "22it [00:18,  1.01it/s]/home/kam/CP Project/MNE_Pipeline.py:79: RuntimeWarning: This filename (epochs/S16_epoch.fif) does not conform to MNE naming conventions. All epochs files should end with -epo.fif, -epo.fif.gz, _epo.fif or _epo.fif.gz\n",
      "  self.epochs = mne.read_epochs(path, verbose=0)\n",
      "/home/kam/CP Project/MNE_Pipeline_ext.py:24: RuntimeWarning: This filename (1_5_trigg_combined_epochs/S16.fif) does not conform to MNE naming conventions. All epochs files should end with -epo.fif, -epo.fif.gz, _epo.fif or _epo.fif.gz\n",
      "  new_epochs.save(save_path)\n",
      "/home/kam/CP Project/MNE_Pipeline_ext.py:24: DeprecationWarning: overwrite defaults to True in 0.18 but will change to False in 0.19, set it explicitly to avoid this warning\n",
      "  new_epochs.save(save_path)\n",
      "23it [00:19,  1.00s/it]/home/kam/CP Project/MNE_Pipeline.py:79: RuntimeWarning: This filename (epochs/S17_epoch.fif) does not conform to MNE naming conventions. All epochs files should end with -epo.fif, -epo.fif.gz, _epo.fif or _epo.fif.gz\n",
      "  self.epochs = mne.read_epochs(path, verbose=0)\n",
      "/home/kam/CP Project/MNE_Pipeline_ext.py:24: RuntimeWarning: This filename (1_5_trigg_combined_epochs/S17.fif) does not conform to MNE naming conventions. All epochs files should end with -epo.fif, -epo.fif.gz, _epo.fif or _epo.fif.gz\n",
      "  new_epochs.save(save_path)\n",
      "/home/kam/CP Project/MNE_Pipeline_ext.py:24: DeprecationWarning: overwrite defaults to True in 0.18 but will change to False in 0.19, set it explicitly to avoid this warning\n",
      "  new_epochs.save(save_path)\n",
      "24it [00:20,  1.02s/it]/home/kam/CP Project/MNE_Pipeline.py:79: RuntimeWarning: This filename (epochs/S18_epoch.fif) does not conform to MNE naming conventions. All epochs files should end with -epo.fif, -epo.fif.gz, _epo.fif or _epo.fif.gz\n",
      "  self.epochs = mne.read_epochs(path, verbose=0)\n",
      "/home/kam/CP Project/MNE_Pipeline_ext.py:24: RuntimeWarning: This filename (1_5_trigg_combined_epochs/S18.fif) does not conform to MNE naming conventions. All epochs files should end with -epo.fif, -epo.fif.gz, _epo.fif or _epo.fif.gz\n",
      "  new_epochs.save(save_path)\n",
      "/home/kam/CP Project/MNE_Pipeline_ext.py:24: DeprecationWarning: overwrite defaults to True in 0.18 but will change to False in 0.19, set it explicitly to avoid this warning\n",
      "  new_epochs.save(save_path)\n",
      "25it [00:21,  1.06s/it]/home/kam/CP Project/MNE_Pipeline.py:79: RuntimeWarning: This filename (epochs/S19_epoch.fif) does not conform to MNE naming conventions. All epochs files should end with -epo.fif, -epo.fif.gz, _epo.fif or _epo.fif.gz\n",
      "  self.epochs = mne.read_epochs(path, verbose=0)\n",
      "/home/kam/CP Project/MNE_Pipeline_ext.py:24: RuntimeWarning: This filename (1_5_trigg_combined_epochs/S19.fif) does not conform to MNE naming conventions. All epochs files should end with -epo.fif, -epo.fif.gz, _epo.fif or _epo.fif.gz\n",
      "  new_epochs.save(save_path)\n",
      "/home/kam/CP Project/MNE_Pipeline_ext.py:24: DeprecationWarning: overwrite defaults to True in 0.18 but will change to False in 0.19, set it explicitly to avoid this warning\n",
      "  new_epochs.save(save_path)\n",
      "26it [00:22,  1.09s/it]/home/kam/CP Project/MNE_Pipeline.py:79: RuntimeWarning: This filename (epochs/S2_epoch.fif) does not conform to MNE naming conventions. All epochs files should end with -epo.fif, -epo.fif.gz, _epo.fif or _epo.fif.gz\n",
      "  self.epochs = mne.read_epochs(path, verbose=0)\n",
      "/home/kam/CP Project/MNE_Pipeline_ext.py:24: RuntimeWarning: This filename (1_5_trigg_combined_epochs/S2.fif) does not conform to MNE naming conventions. All epochs files should end with -epo.fif, -epo.fif.gz, _epo.fif or _epo.fif.gz\n",
      "  new_epochs.save(save_path)\n",
      "/home/kam/CP Project/MNE_Pipeline_ext.py:24: DeprecationWarning: overwrite defaults to True in 0.18 but will change to False in 0.19, set it explicitly to avoid this warning\n",
      "  new_epochs.save(save_path)\n",
      "27it [00:24,  1.12s/it]/home/kam/CP Project/MNE_Pipeline.py:79: RuntimeWarning: This filename (epochs/S20_epoch.fif) does not conform to MNE naming conventions. All epochs files should end with -epo.fif, -epo.fif.gz, _epo.fif or _epo.fif.gz\n",
      "  self.epochs = mne.read_epochs(path, verbose=0)\n",
      "/home/kam/CP Project/MNE_Pipeline_ext.py:24: RuntimeWarning: This filename (1_5_trigg_combined_epochs/S20.fif) does not conform to MNE naming conventions. All epochs files should end with -epo.fif, -epo.fif.gz, _epo.fif or _epo.fif.gz\n",
      "  new_epochs.save(save_path)\n",
      "/home/kam/CP Project/MNE_Pipeline_ext.py:24: DeprecationWarning: overwrite defaults to True in 0.18 but will change to False in 0.19, set it explicitly to avoid this warning\n",
      "  new_epochs.save(save_path)\n",
      "28it [00:25,  1.16s/it]/home/kam/CP Project/MNE_Pipeline.py:79: RuntimeWarning: This filename (epochs/S21_epoch.fif) does not conform to MNE naming conventions. All epochs files should end with -epo.fif, -epo.fif.gz, _epo.fif or _epo.fif.gz\n",
      "  self.epochs = mne.read_epochs(path, verbose=0)\n",
      "/home/kam/CP Project/MNE_Pipeline_ext.py:24: RuntimeWarning: This filename (1_5_trigg_combined_epochs/S21.fif) does not conform to MNE naming conventions. All epochs files should end with -epo.fif, -epo.fif.gz, _epo.fif or _epo.fif.gz\n",
      "  new_epochs.save(save_path)\n",
      "/home/kam/CP Project/MNE_Pipeline_ext.py:24: DeprecationWarning: overwrite defaults to True in 0.18 but will change to False in 0.19, set it explicitly to avoid this warning\n",
      "  new_epochs.save(save_path)\n",
      "29it [00:26,  1.19s/it]/home/kam/CP Project/MNE_Pipeline.py:79: RuntimeWarning: This filename (epochs/S3_epoch.fif) does not conform to MNE naming conventions. All epochs files should end with -epo.fif, -epo.fif.gz, _epo.fif or _epo.fif.gz\n",
      "  self.epochs = mne.read_epochs(path, verbose=0)\n",
      "/home/kam/CP Project/MNE_Pipeline_ext.py:24: RuntimeWarning: This filename (1_5_trigg_combined_epochs/S3.fif) does not conform to MNE naming conventions. All epochs files should end with -epo.fif, -epo.fif.gz, _epo.fif or _epo.fif.gz\n",
      "  new_epochs.save(save_path)\n",
      "/home/kam/CP Project/MNE_Pipeline_ext.py:24: DeprecationWarning: overwrite defaults to True in 0.18 but will change to False in 0.19, set it explicitly to avoid this warning\n",
      "  new_epochs.save(save_path)\n",
      "30it [00:27,  1.13s/it]/home/kam/CP Project/MNE_Pipeline.py:79: RuntimeWarning: This filename (epochs/S4_epoch.fif) does not conform to MNE naming conventions. All epochs files should end with -epo.fif, -epo.fif.gz, _epo.fif or _epo.fif.gz\n",
      "  self.epochs = mne.read_epochs(path, verbose=0)\n",
      "/home/kam/CP Project/MNE_Pipeline_ext.py:24: RuntimeWarning: This filename (1_5_trigg_combined_epochs/S4.fif) does not conform to MNE naming conventions. All epochs files should end with -epo.fif, -epo.fif.gz, _epo.fif or _epo.fif.gz\n",
      "  new_epochs.save(save_path)\n",
      "/home/kam/CP Project/MNE_Pipeline_ext.py:24: DeprecationWarning: overwrite defaults to True in 0.18 but will change to False in 0.19, set it explicitly to avoid this warning\n",
      "  new_epochs.save(save_path)\n",
      "31it [00:28,  1.08s/it]/home/kam/CP Project/MNE_Pipeline.py:79: RuntimeWarning: This filename (epochs/S5_epoch.fif) does not conform to MNE naming conventions. All epochs files should end with -epo.fif, -epo.fif.gz, _epo.fif or _epo.fif.gz\n",
      "  self.epochs = mne.read_epochs(path, verbose=0)\n",
      "/home/kam/CP Project/MNE_Pipeline_ext.py:24: RuntimeWarning: This filename (1_5_trigg_combined_epochs/S5.fif) does not conform to MNE naming conventions. All epochs files should end with -epo.fif, -epo.fif.gz, _epo.fif or _epo.fif.gz\n",
      "  new_epochs.save(save_path)\n",
      "/home/kam/CP Project/MNE_Pipeline_ext.py:24: DeprecationWarning: overwrite defaults to True in 0.18 but will change to False in 0.19, set it explicitly to avoid this warning\n",
      "  new_epochs.save(save_path)\n",
      "32it [00:29,  1.06s/it]/home/kam/CP Project/MNE_Pipeline.py:79: RuntimeWarning: This filename (epochs/S6_epoch.fif) does not conform to MNE naming conventions. All epochs files should end with -epo.fif, -epo.fif.gz, _epo.fif or _epo.fif.gz\n",
      "  self.epochs = mne.read_epochs(path, verbose=0)\n",
      "/home/kam/CP Project/MNE_Pipeline_ext.py:24: RuntimeWarning: This filename (1_5_trigg_combined_epochs/S6.fif) does not conform to MNE naming conventions. All epochs files should end with -epo.fif, -epo.fif.gz, _epo.fif or _epo.fif.gz\n",
      "  new_epochs.save(save_path)\n",
      "/home/kam/CP Project/MNE_Pipeline_ext.py:24: DeprecationWarning: overwrite defaults to True in 0.18 but will change to False in 0.19, set it explicitly to avoid this warning\n",
      "  new_epochs.save(save_path)\n"
     ]
    },
    {
     "name": "stderr",
     "output_type": "stream",
     "text": [
      "33it [00:30,  1.04s/it]/home/kam/CP Project/MNE_Pipeline.py:79: RuntimeWarning: This filename (epochs/S7_epoch.fif) does not conform to MNE naming conventions. All epochs files should end with -epo.fif, -epo.fif.gz, _epo.fif or _epo.fif.gz\n",
      "  self.epochs = mne.read_epochs(path, verbose=0)\n",
      "/home/kam/CP Project/MNE_Pipeline_ext.py:24: RuntimeWarning: This filename (1_5_trigg_combined_epochs/S7.fif) does not conform to MNE naming conventions. All epochs files should end with -epo.fif, -epo.fif.gz, _epo.fif or _epo.fif.gz\n",
      "  new_epochs.save(save_path)\n",
      "/home/kam/CP Project/MNE_Pipeline_ext.py:24: DeprecationWarning: overwrite defaults to True in 0.18 but will change to False in 0.19, set it explicitly to avoid this warning\n",
      "  new_epochs.save(save_path)\n",
      "34it [00:31,  1.03s/it]/home/kam/CP Project/MNE_Pipeline.py:79: RuntimeWarning: This filename (epochs/S8_epoch.fif) does not conform to MNE naming conventions. All epochs files should end with -epo.fif, -epo.fif.gz, _epo.fif or _epo.fif.gz\n",
      "  self.epochs = mne.read_epochs(path, verbose=0)\n",
      "/home/kam/CP Project/MNE_Pipeline_ext.py:24: RuntimeWarning: This filename (1_5_trigg_combined_epochs/S8.fif) does not conform to MNE naming conventions. All epochs files should end with -epo.fif, -epo.fif.gz, _epo.fif or _epo.fif.gz\n",
      "  new_epochs.save(save_path)\n",
      "/home/kam/CP Project/MNE_Pipeline_ext.py:24: DeprecationWarning: overwrite defaults to True in 0.18 but will change to False in 0.19, set it explicitly to avoid this warning\n",
      "  new_epochs.save(save_path)\n",
      "35it [00:32,  1.02s/it]/home/kam/CP Project/MNE_Pipeline.py:79: RuntimeWarning: This filename (epochs/S9_epoch.fif) does not conform to MNE naming conventions. All epochs files should end with -epo.fif, -epo.fif.gz, _epo.fif or _epo.fif.gz\n",
      "  self.epochs = mne.read_epochs(path, verbose=0)\n",
      "/home/kam/CP Project/MNE_Pipeline_ext.py:24: RuntimeWarning: This filename (1_5_trigg_combined_epochs/S9.fif) does not conform to MNE naming conventions. All epochs files should end with -epo.fif, -epo.fif.gz, _epo.fif or _epo.fif.gz\n",
      "  new_epochs.save(save_path)\n",
      "/home/kam/CP Project/MNE_Pipeline_ext.py:24: DeprecationWarning: overwrite defaults to True in 0.18 but will change to False in 0.19, set it explicitly to avoid this warning\n",
      "  new_epochs.save(save_path)\n",
      "36it [00:33,  1.02s/it]/home/kam/CP Project/MNE_Pipeline.py:79: RuntimeWarning: This filename (epochs/T1_epoch.fif) does not conform to MNE naming conventions. All epochs files should end with -epo.fif, -epo.fif.gz, _epo.fif or _epo.fif.gz\n",
      "  self.epochs = mne.read_epochs(path, verbose=0)\n",
      "/home/kam/CP Project/MNE_Pipeline_ext.py:24: RuntimeWarning: This filename (1_5_trigg_combined_epochs/T1.fif) does not conform to MNE naming conventions. All epochs files should end with -epo.fif, -epo.fif.gz, _epo.fif or _epo.fif.gz\n",
      "  new_epochs.save(save_path)\n",
      "/home/kam/CP Project/MNE_Pipeline_ext.py:24: DeprecationWarning: overwrite defaults to True in 0.18 but will change to False in 0.19, set it explicitly to avoid this warning\n",
      "  new_epochs.save(save_path)\n",
      "37it [00:34,  1.01s/it]/home/kam/CP Project/MNE_Pipeline.py:79: RuntimeWarning: This filename (epochs/T10_epoch.fif) does not conform to MNE naming conventions. All epochs files should end with -epo.fif, -epo.fif.gz, _epo.fif or _epo.fif.gz\n",
      "  self.epochs = mne.read_epochs(path, verbose=0)\n",
      "/home/kam/CP Project/MNE_Pipeline_ext.py:24: RuntimeWarning: This filename (1_5_trigg_combined_epochs/T10.fif) does not conform to MNE naming conventions. All epochs files should end with -epo.fif, -epo.fif.gz, _epo.fif or _epo.fif.gz\n",
      "  new_epochs.save(save_path)\n",
      "/home/kam/CP Project/MNE_Pipeline_ext.py:24: DeprecationWarning: overwrite defaults to True in 0.18 but will change to False in 0.19, set it explicitly to avoid this warning\n",
      "  new_epochs.save(save_path)\n",
      "38it [00:35,  1.01s/it]/home/kam/CP Project/MNE_Pipeline.py:79: RuntimeWarning: This filename (epochs/T11_epoch.fif) does not conform to MNE naming conventions. All epochs files should end with -epo.fif, -epo.fif.gz, _epo.fif or _epo.fif.gz\n",
      "  self.epochs = mne.read_epochs(path, verbose=0)\n",
      "/home/kam/CP Project/MNE_Pipeline_ext.py:24: RuntimeWarning: This filename (1_5_trigg_combined_epochs/T11.fif) does not conform to MNE naming conventions. All epochs files should end with -epo.fif, -epo.fif.gz, _epo.fif or _epo.fif.gz\n",
      "  new_epochs.save(save_path)\n",
      "/home/kam/CP Project/MNE_Pipeline_ext.py:24: DeprecationWarning: overwrite defaults to True in 0.18 but will change to False in 0.19, set it explicitly to avoid this warning\n",
      "  new_epochs.save(save_path)\n",
      "39it [00:36,  1.02s/it]/home/kam/CP Project/MNE_Pipeline.py:79: RuntimeWarning: This filename (epochs/T12_epoch.fif) does not conform to MNE naming conventions. All epochs files should end with -epo.fif, -epo.fif.gz, _epo.fif or _epo.fif.gz\n",
      "  self.epochs = mne.read_epochs(path, verbose=0)\n",
      "/home/kam/CP Project/MNE_Pipeline_ext.py:24: RuntimeWarning: This filename (1_5_trigg_combined_epochs/T12.fif) does not conform to MNE naming conventions. All epochs files should end with -epo.fif, -epo.fif.gz, _epo.fif or _epo.fif.gz\n",
      "  new_epochs.save(save_path)\n",
      "/home/kam/CP Project/MNE_Pipeline_ext.py:24: DeprecationWarning: overwrite defaults to True in 0.18 but will change to False in 0.19, set it explicitly to avoid this warning\n",
      "  new_epochs.save(save_path)\n",
      "40it [00:37,  1.01s/it]/home/kam/CP Project/MNE_Pipeline.py:79: RuntimeWarning: This filename (epochs/T13_epoch.fif) does not conform to MNE naming conventions. All epochs files should end with -epo.fif, -epo.fif.gz, _epo.fif or _epo.fif.gz\n",
      "  self.epochs = mne.read_epochs(path, verbose=0)\n",
      "/home/kam/CP Project/MNE_Pipeline_ext.py:24: RuntimeWarning: This filename (1_5_trigg_combined_epochs/T13.fif) does not conform to MNE naming conventions. All epochs files should end with -epo.fif, -epo.fif.gz, _epo.fif or _epo.fif.gz\n",
      "  new_epochs.save(save_path)\n",
      "/home/kam/CP Project/MNE_Pipeline_ext.py:24: DeprecationWarning: overwrite defaults to True in 0.18 but will change to False in 0.19, set it explicitly to avoid this warning\n",
      "  new_epochs.save(save_path)\n",
      "41it [00:38,  1.04s/it]/home/kam/CP Project/MNE_Pipeline.py:79: RuntimeWarning: This filename (epochs/T14_epoch.fif) does not conform to MNE naming conventions. All epochs files should end with -epo.fif, -epo.fif.gz, _epo.fif or _epo.fif.gz\n",
      "  self.epochs = mne.read_epochs(path, verbose=0)\n",
      "/home/kam/CP Project/MNE_Pipeline_ext.py:24: RuntimeWarning: This filename (1_5_trigg_combined_epochs/T14.fif) does not conform to MNE naming conventions. All epochs files should end with -epo.fif, -epo.fif.gz, _epo.fif or _epo.fif.gz\n",
      "  new_epochs.save(save_path)\n",
      "/home/kam/CP Project/MNE_Pipeline_ext.py:24: DeprecationWarning: overwrite defaults to True in 0.18 but will change to False in 0.19, set it explicitly to avoid this warning\n",
      "  new_epochs.save(save_path)\n",
      "42it [00:39,  1.06s/it]/home/kam/CP Project/MNE_Pipeline.py:79: RuntimeWarning: This filename (epochs/T2_epoch.fif) does not conform to MNE naming conventions. All epochs files should end with -epo.fif, -epo.fif.gz, _epo.fif or _epo.fif.gz\n",
      "  self.epochs = mne.read_epochs(path, verbose=0)\n",
      "/home/kam/CP Project/MNE_Pipeline_ext.py:24: RuntimeWarning: This filename (1_5_trigg_combined_epochs/T2.fif) does not conform to MNE naming conventions. All epochs files should end with -epo.fif, -epo.fif.gz, _epo.fif or _epo.fif.gz\n",
      "  new_epochs.save(save_path)\n",
      "/home/kam/CP Project/MNE_Pipeline_ext.py:24: DeprecationWarning: overwrite defaults to True in 0.18 but will change to False in 0.19, set it explicitly to avoid this warning\n",
      "  new_epochs.save(save_path)\n",
      "43it [00:41,  1.08s/it]/home/kam/CP Project/MNE_Pipeline.py:79: RuntimeWarning: This filename (epochs/T3_epoch.fif) does not conform to MNE naming conventions. All epochs files should end with -epo.fif, -epo.fif.gz, _epo.fif or _epo.fif.gz\n",
      "  self.epochs = mne.read_epochs(path, verbose=0)\n",
      "/home/kam/CP Project/MNE_Pipeline_ext.py:24: RuntimeWarning: This filename (1_5_trigg_combined_epochs/T3.fif) does not conform to MNE naming conventions. All epochs files should end with -epo.fif, -epo.fif.gz, _epo.fif or _epo.fif.gz\n",
      "  new_epochs.save(save_path)\n",
      "/home/kam/CP Project/MNE_Pipeline_ext.py:24: DeprecationWarning: overwrite defaults to True in 0.18 but will change to False in 0.19, set it explicitly to avoid this warning\n",
      "  new_epochs.save(save_path)\n"
     ]
    },
    {
     "name": "stderr",
     "output_type": "stream",
     "text": [
      "44it [00:42,  1.10s/it]/home/kam/CP Project/MNE_Pipeline.py:79: RuntimeWarning: This filename (epochs/T4_epoch.fif) does not conform to MNE naming conventions. All epochs files should end with -epo.fif, -epo.fif.gz, _epo.fif or _epo.fif.gz\n",
      "  self.epochs = mne.read_epochs(path, verbose=0)\n",
      "/home/kam/CP Project/MNE_Pipeline_ext.py:24: RuntimeWarning: This filename (1_5_trigg_combined_epochs/T4.fif) does not conform to MNE naming conventions. All epochs files should end with -epo.fif, -epo.fif.gz, _epo.fif or _epo.fif.gz\n",
      "  new_epochs.save(save_path)\n",
      "/home/kam/CP Project/MNE_Pipeline_ext.py:24: DeprecationWarning: overwrite defaults to True in 0.18 but will change to False in 0.19, set it explicitly to avoid this warning\n",
      "  new_epochs.save(save_path)\n",
      "45it [00:43,  1.13s/it]/home/kam/CP Project/MNE_Pipeline.py:79: RuntimeWarning: This filename (epochs/T5_epoch.fif) does not conform to MNE naming conventions. All epochs files should end with -epo.fif, -epo.fif.gz, _epo.fif or _epo.fif.gz\n",
      "  self.epochs = mne.read_epochs(path, verbose=0)\n",
      "/home/kam/CP Project/MNE_Pipeline_ext.py:24: RuntimeWarning: This filename (1_5_trigg_combined_epochs/T5.fif) does not conform to MNE naming conventions. All epochs files should end with -epo.fif, -epo.fif.gz, _epo.fif or _epo.fif.gz\n",
      "  new_epochs.save(save_path)\n",
      "/home/kam/CP Project/MNE_Pipeline_ext.py:24: DeprecationWarning: overwrite defaults to True in 0.18 but will change to False in 0.19, set it explicitly to avoid this warning\n",
      "  new_epochs.save(save_path)\n",
      "46it [00:44,  1.16s/it]/home/kam/CP Project/MNE_Pipeline.py:79: RuntimeWarning: This filename (epochs/T6_epoch.fif) does not conform to MNE naming conventions. All epochs files should end with -epo.fif, -epo.fif.gz, _epo.fif or _epo.fif.gz\n",
      "  self.epochs = mne.read_epochs(path, verbose=0)\n",
      "/home/kam/CP Project/MNE_Pipeline_ext.py:24: RuntimeWarning: This filename (1_5_trigg_combined_epochs/T6.fif) does not conform to MNE naming conventions. All epochs files should end with -epo.fif, -epo.fif.gz, _epo.fif or _epo.fif.gz\n",
      "  new_epochs.save(save_path)\n",
      "/home/kam/CP Project/MNE_Pipeline_ext.py:24: DeprecationWarning: overwrite defaults to True in 0.18 but will change to False in 0.19, set it explicitly to avoid this warning\n",
      "  new_epochs.save(save_path)\n",
      "47it [00:45,  1.16s/it]/home/kam/CP Project/MNE_Pipeline.py:79: RuntimeWarning: This filename (epochs/T7_epoch.fif) does not conform to MNE naming conventions. All epochs files should end with -epo.fif, -epo.fif.gz, _epo.fif or _epo.fif.gz\n",
      "  self.epochs = mne.read_epochs(path, verbose=0)\n",
      "/home/kam/CP Project/MNE_Pipeline_ext.py:24: RuntimeWarning: This filename (1_5_trigg_combined_epochs/T7.fif) does not conform to MNE naming conventions. All epochs files should end with -epo.fif, -epo.fif.gz, _epo.fif or _epo.fif.gz\n",
      "  new_epochs.save(save_path)\n",
      "/home/kam/CP Project/MNE_Pipeline_ext.py:24: DeprecationWarning: overwrite defaults to True in 0.18 but will change to False in 0.19, set it explicitly to avoid this warning\n",
      "  new_epochs.save(save_path)\n",
      "48it [00:47,  1.26s/it]/home/kam/CP Project/MNE_Pipeline.py:79: RuntimeWarning: This filename (epochs/T8_epoch.fif) does not conform to MNE naming conventions. All epochs files should end with -epo.fif, -epo.fif.gz, _epo.fif or _epo.fif.gz\n",
      "  self.epochs = mne.read_epochs(path, verbose=0)\n",
      "/home/kam/CP Project/MNE_Pipeline_ext.py:24: RuntimeWarning: This filename (1_5_trigg_combined_epochs/T8.fif) does not conform to MNE naming conventions. All epochs files should end with -epo.fif, -epo.fif.gz, _epo.fif or _epo.fif.gz\n",
      "  new_epochs.save(save_path)\n",
      "/home/kam/CP Project/MNE_Pipeline_ext.py:24: DeprecationWarning: overwrite defaults to True in 0.18 but will change to False in 0.19, set it explicitly to avoid this warning\n",
      "  new_epochs.save(save_path)\n",
      "49it [00:48,  1.18s/it]/home/kam/CP Project/MNE_Pipeline.py:79: RuntimeWarning: This filename (epochs/T9_epoch.fif) does not conform to MNE naming conventions. All epochs files should end with -epo.fif, -epo.fif.gz, _epo.fif or _epo.fif.gz\n",
      "  self.epochs = mne.read_epochs(path, verbose=0)\n",
      "/home/kam/CP Project/MNE_Pipeline_ext.py:24: RuntimeWarning: This filename (1_5_trigg_combined_epochs/T9.fif) does not conform to MNE naming conventions. All epochs files should end with -epo.fif, -epo.fif.gz, _epo.fif or _epo.fif.gz\n",
      "  new_epochs.save(save_path)\n",
      "/home/kam/CP Project/MNE_Pipeline_ext.py:24: DeprecationWarning: overwrite defaults to True in 0.18 but will change to False in 0.19, set it explicitly to avoid this warning\n",
      "  new_epochs.save(save_path)\n",
      "50it [00:49,  1.01it/s]\n"
     ]
    }
   ],
   "source": [
    "for path, subject in tqdm(zip(subject_epoch_paths, subjects)):\n",
    "    epochs = mp.load_epochs(path)\n",
    "    mp_ext.combine_events_and_save(epochs, ['1', '5'], 15, subject)"
   ]
  },
  {
   "cell_type": "code",
   "execution_count": 12,
   "metadata": {},
   "outputs": [
    {
     "name": "stderr",
     "output_type": "stream",
     "text": [
      "/home/kam/CP Project/MNE_Pipeline.py:79: RuntimeWarning: This filename (1_5_trigg_combined_epochs/T9.fif) does not conform to MNE naming conventions. All epochs files should end with -epo.fif, -epo.fif.gz, _epo.fif or _epo.fif.gz\n",
      "  self.epochs = mne.read_epochs(path, verbose=0)\n"
     ]
    }
   ],
   "source": [
    "epochs = mp.load_epochs(subject_epoch_combined_paths[49])\n",
    "psd, freq = mne.time_frequency.psd_welch(epochs, 8, 15, tmin=0, tmax=0.2, n_fft=500, n_per_seg=500, verbose=False)"
   ]
  },
  {
   "cell_type": "code",
   "execution_count": 14,
   "metadata": {},
   "outputs": [
    {
     "data": {
      "text/plain": [
       "(1000, 64, 8)"
      ]
     },
     "execution_count": 14,
     "metadata": {},
     "output_type": "execute_result"
    }
   ],
   "source": [
    "psd.shape"
   ]
  },
  {
   "cell_type": "markdown",
   "metadata": {},
   "source": [
    "## Bootstrap ERPs"
   ]
  },
  {
   "cell_type": "code",
   "execution_count": 4,
   "metadata": {},
   "outputs": [
    {
     "name": "stderr",
     "output_type": "stream",
     "text": [
      "0it [00:00, ?it/s]/home/kam/CP Project/MNE_Pipeline.py:79: RuntimeWarning: This filename (1_5_trigg_combined_epochs/N1.fif) does not conform to MNE naming conventions. All epochs files should end with -epo.fif, -epo.fif.gz, _epo.fif or _epo.fif.gz\n",
      "  self.epochs = mne.read_epochs(path, verbose=0)\n"
     ]
    },
    {
     "name": "stdout",
     "output_type": "stream",
     "text": [
      "Starting for N1_3\n",
      "Starting for N1_15\n"
     ]
    },
    {
     "name": "stderr",
     "output_type": "stream",
     "text": [
      "1it [00:08,  8.16s/it]/home/kam/CP Project/MNE_Pipeline.py:79: RuntimeWarning: This filename (1_5_trigg_combined_epochs/N10.fif) does not conform to MNE naming conventions. All epochs files should end with -epo.fif, -epo.fif.gz, _epo.fif or _epo.fif.gz\n",
      "  self.epochs = mne.read_epochs(path, verbose=0)\n"
     ]
    },
    {
     "name": "stdout",
     "output_type": "stream",
     "text": [
      "Starting for N10_3\n",
      "Starting for N10_15\n"
     ]
    },
    {
     "name": "stderr",
     "output_type": "stream",
     "text": [
      "2it [00:16,  8.14s/it]/home/kam/CP Project/MNE_Pipeline.py:79: RuntimeWarning: This filename (1_5_trigg_combined_epochs/N11.fif) does not conform to MNE naming conventions. All epochs files should end with -epo.fif, -epo.fif.gz, _epo.fif or _epo.fif.gz\n",
      "  self.epochs = mne.read_epochs(path, verbose=0)\n"
     ]
    },
    {
     "name": "stdout",
     "output_type": "stream",
     "text": [
      "Starting for N11_3\n",
      "Starting for N11_15\n"
     ]
    },
    {
     "name": "stderr",
     "output_type": "stream",
     "text": [
      "3it [00:24,  8.12s/it]/home/kam/CP Project/MNE_Pipeline.py:79: RuntimeWarning: This filename (1_5_trigg_combined_epochs/N12.fif) does not conform to MNE naming conventions. All epochs files should end with -epo.fif, -epo.fif.gz, _epo.fif or _epo.fif.gz\n",
      "  self.epochs = mne.read_epochs(path, verbose=0)\n"
     ]
    },
    {
     "name": "stdout",
     "output_type": "stream",
     "text": [
      "Starting for N12_3\n",
      "Starting for N12_15\n"
     ]
    },
    {
     "name": "stderr",
     "output_type": "stream",
     "text": [
      "4it [00:32,  8.11s/it]/home/kam/CP Project/MNE_Pipeline.py:79: RuntimeWarning: This filename (1_5_trigg_combined_epochs/N13.fif) does not conform to MNE naming conventions. All epochs files should end with -epo.fif, -epo.fif.gz, _epo.fif or _epo.fif.gz\n",
      "  self.epochs = mne.read_epochs(path, verbose=0)\n"
     ]
    },
    {
     "name": "stdout",
     "output_type": "stream",
     "text": [
      "Starting for N13_3\n",
      "Starting for N13_15\n"
     ]
    },
    {
     "name": "stderr",
     "output_type": "stream",
     "text": [
      "5it [00:40,  8.10s/it]/home/kam/CP Project/MNE_Pipeline.py:79: RuntimeWarning: This filename (1_5_trigg_combined_epochs/N14.fif) does not conform to MNE naming conventions. All epochs files should end with -epo.fif, -epo.fif.gz, _epo.fif or _epo.fif.gz\n",
      "  self.epochs = mne.read_epochs(path, verbose=0)\n"
     ]
    },
    {
     "name": "stdout",
     "output_type": "stream",
     "text": [
      "Starting for N14_3\n",
      "Starting for N14_15\n"
     ]
    },
    {
     "name": "stderr",
     "output_type": "stream",
     "text": [
      "6it [00:48,  8.10s/it]/home/kam/CP Project/MNE_Pipeline.py:79: RuntimeWarning: This filename (1_5_trigg_combined_epochs/N15.fif) does not conform to MNE naming conventions. All epochs files should end with -epo.fif, -epo.fif.gz, _epo.fif or _epo.fif.gz\n",
      "  self.epochs = mne.read_epochs(path, verbose=0)\n"
     ]
    },
    {
     "name": "stdout",
     "output_type": "stream",
     "text": [
      "Starting for N15_3\n",
      "Starting for N15_15\n"
     ]
    },
    {
     "name": "stderr",
     "output_type": "stream",
     "text": [
      "7it [00:56,  8.09s/it]/home/kam/CP Project/MNE_Pipeline.py:79: RuntimeWarning: This filename (1_5_trigg_combined_epochs/N2.fif) does not conform to MNE naming conventions. All epochs files should end with -epo.fif, -epo.fif.gz, _epo.fif or _epo.fif.gz\n",
      "  self.epochs = mne.read_epochs(path, verbose=0)\n"
     ]
    },
    {
     "name": "stdout",
     "output_type": "stream",
     "text": [
      "Starting for N2_3\n",
      "Starting for N2_15\n"
     ]
    },
    {
     "name": "stderr",
     "output_type": "stream",
     "text": [
      "8it [01:04,  8.09s/it]/home/kam/CP Project/MNE_Pipeline.py:79: RuntimeWarning: This filename (1_5_trigg_combined_epochs/N3.fif) does not conform to MNE naming conventions. All epochs files should end with -epo.fif, -epo.fif.gz, _epo.fif or _epo.fif.gz\n",
      "  self.epochs = mne.read_epochs(path, verbose=0)\n"
     ]
    },
    {
     "name": "stdout",
     "output_type": "stream",
     "text": [
      "Starting for N3_3\n",
      "Starting for N3_15\n"
     ]
    },
    {
     "name": "stderr",
     "output_type": "stream",
     "text": [
      "9it [01:12,  8.09s/it]/home/kam/CP Project/MNE_Pipeline.py:79: RuntimeWarning: This filename (1_5_trigg_combined_epochs/N4.fif) does not conform to MNE naming conventions. All epochs files should end with -epo.fif, -epo.fif.gz, _epo.fif or _epo.fif.gz\n",
      "  self.epochs = mne.read_epochs(path, verbose=0)\n"
     ]
    },
    {
     "name": "stdout",
     "output_type": "stream",
     "text": [
      "Starting for N4_3\n",
      "Starting for N4_15\n"
     ]
    },
    {
     "name": "stderr",
     "output_type": "stream",
     "text": [
      "10it [01:20,  8.09s/it]/home/kam/CP Project/MNE_Pipeline.py:79: RuntimeWarning: This filename (1_5_trigg_combined_epochs/N5.fif) does not conform to MNE naming conventions. All epochs files should end with -epo.fif, -epo.fif.gz, _epo.fif or _epo.fif.gz\n",
      "  self.epochs = mne.read_epochs(path, verbose=0)\n"
     ]
    },
    {
     "name": "stdout",
     "output_type": "stream",
     "text": [
      "Starting for N5_3\n",
      "Starting for N5_15\n"
     ]
    },
    {
     "name": "stderr",
     "output_type": "stream",
     "text": [
      "11it [01:28,  8.08s/it]/home/kam/CP Project/MNE_Pipeline.py:79: RuntimeWarning: This filename (1_5_trigg_combined_epochs/N6.fif) does not conform to MNE naming conventions. All epochs files should end with -epo.fif, -epo.fif.gz, _epo.fif or _epo.fif.gz\n",
      "  self.epochs = mne.read_epochs(path, verbose=0)\n"
     ]
    },
    {
     "name": "stdout",
     "output_type": "stream",
     "text": [
      "Starting for N6_3\n",
      "Starting for N6_15\n"
     ]
    },
    {
     "name": "stderr",
     "output_type": "stream",
     "text": [
      "12it [01:37,  8.08s/it]/home/kam/CP Project/MNE_Pipeline.py:79: RuntimeWarning: This filename (1_5_trigg_combined_epochs/N7.fif) does not conform to MNE naming conventions. All epochs files should end with -epo.fif, -epo.fif.gz, _epo.fif or _epo.fif.gz\n",
      "  self.epochs = mne.read_epochs(path, verbose=0)\n"
     ]
    },
    {
     "name": "stdout",
     "output_type": "stream",
     "text": [
      "Starting for N7_3\n",
      "Starting for N7_15\n"
     ]
    },
    {
     "name": "stderr",
     "output_type": "stream",
     "text": [
      "13it [01:45,  8.08s/it]/home/kam/CP Project/MNE_Pipeline.py:79: RuntimeWarning: This filename (1_5_trigg_combined_epochs/N8.fif) does not conform to MNE naming conventions. All epochs files should end with -epo.fif, -epo.fif.gz, _epo.fif or _epo.fif.gz\n",
      "  self.epochs = mne.read_epochs(path, verbose=0)\n"
     ]
    },
    {
     "name": "stdout",
     "output_type": "stream",
     "text": [
      "Starting for N8_3\n",
      "Starting for N8_15\n"
     ]
    },
    {
     "name": "stderr",
     "output_type": "stream",
     "text": [
      "14it [01:53,  8.13s/it]/home/kam/CP Project/MNE_Pipeline.py:79: RuntimeWarning: This filename (1_5_trigg_combined_epochs/N9.fif) does not conform to MNE naming conventions. All epochs files should end with -epo.fif, -epo.fif.gz, _epo.fif or _epo.fif.gz\n",
      "  self.epochs = mne.read_epochs(path, verbose=0)\n"
     ]
    },
    {
     "name": "stdout",
     "output_type": "stream",
     "text": [
      "Starting for N9_3\n",
      "Starting for N9_15\n"
     ]
    },
    {
     "name": "stderr",
     "output_type": "stream",
     "text": [
      "15it [02:01,  8.12s/it]/home/kam/CP Project/MNE_Pipeline.py:79: RuntimeWarning: This filename (1_5_trigg_combined_epochs/S1.fif) does not conform to MNE naming conventions. All epochs files should end with -epo.fif, -epo.fif.gz, _epo.fif or _epo.fif.gz\n",
      "  self.epochs = mne.read_epochs(path, verbose=0)\n"
     ]
    },
    {
     "name": "stdout",
     "output_type": "stream",
     "text": [
      "Starting for S1_3\n"
     ]
    },
    {
     "name": "stderr",
     "output_type": "stream",
     "text": [
      "\r",
      "16it [02:09,  8.13s/it]"
     ]
    },
    {
     "name": "stdout",
     "output_type": "stream",
     "text": [
      "Starting for S1_15\n"
     ]
    },
    {
     "name": "stderr",
     "output_type": "stream",
     "text": [
      "/home/kam/CP Project/MNE_Pipeline.py:79: RuntimeWarning: This filename (1_5_trigg_combined_epochs/S10.fif) does not conform to MNE naming conventions. All epochs files should end with -epo.fif, -epo.fif.gz, _epo.fif or _epo.fif.gz\n",
      "  self.epochs = mne.read_epochs(path, verbose=0)\n"
     ]
    },
    {
     "name": "stdout",
     "output_type": "stream",
     "text": [
      "Starting for S10_3\n",
      "Starting for S10_15\n"
     ]
    },
    {
     "name": "stderr",
     "output_type": "stream",
     "text": [
      "17it [02:17,  8.16s/it]/home/kam/CP Project/MNE_Pipeline.py:79: RuntimeWarning: This filename (1_5_trigg_combined_epochs/S11.fif) does not conform to MNE naming conventions. All epochs files should end with -epo.fif, -epo.fif.gz, _epo.fif or _epo.fif.gz\n",
      "  self.epochs = mne.read_epochs(path, verbose=0)\n"
     ]
    },
    {
     "name": "stdout",
     "output_type": "stream",
     "text": [
      "Starting for S11_3\n",
      "Starting for S11_15\n"
     ]
    },
    {
     "name": "stderr",
     "output_type": "stream",
     "text": [
      "18it [02:26,  8.19s/it]/home/kam/CP Project/MNE_Pipeline.py:79: RuntimeWarning: This filename (1_5_trigg_combined_epochs/S12.fif) does not conform to MNE naming conventions. All epochs files should end with -epo.fif, -epo.fif.gz, _epo.fif or _epo.fif.gz\n",
      "  self.epochs = mne.read_epochs(path, verbose=0)\n"
     ]
    },
    {
     "name": "stdout",
     "output_type": "stream",
     "text": [
      "Starting for S12_3\n",
      "Starting for S12_15\n"
     ]
    },
    {
     "name": "stderr",
     "output_type": "stream",
     "text": [
      "19it [02:34,  8.20s/it]/home/kam/CP Project/MNE_Pipeline.py:79: RuntimeWarning: This filename (1_5_trigg_combined_epochs/S13.fif) does not conform to MNE naming conventions. All epochs files should end with -epo.fif, -epo.fif.gz, _epo.fif or _epo.fif.gz\n",
      "  self.epochs = mne.read_epochs(path, verbose=0)\n"
     ]
    },
    {
     "name": "stdout",
     "output_type": "stream",
     "text": [
      "Starting for S13_3\n",
      "Starting for S13_15\n"
     ]
    },
    {
     "name": "stderr",
     "output_type": "stream",
     "text": [
      "20it [02:42,  8.23s/it]/home/kam/CP Project/MNE_Pipeline.py:79: RuntimeWarning: This filename (1_5_trigg_combined_epochs/S14.fif) does not conform to MNE naming conventions. All epochs files should end with -epo.fif, -epo.fif.gz, _epo.fif or _epo.fif.gz\n",
      "  self.epochs = mne.read_epochs(path, verbose=0)\n"
     ]
    },
    {
     "name": "stdout",
     "output_type": "stream",
     "text": [
      "Starting for S14_3\n",
      "Starting for S14_15\n"
     ]
    },
    {
     "name": "stderr",
     "output_type": "stream",
     "text": [
      "21it [02:51,  8.29s/it]/home/kam/CP Project/MNE_Pipeline.py:79: RuntimeWarning: This filename (1_5_trigg_combined_epochs/S15.fif) does not conform to MNE naming conventions. All epochs files should end with -epo.fif, -epo.fif.gz, _epo.fif or _epo.fif.gz\n",
      "  self.epochs = mne.read_epochs(path, verbose=0)\n"
     ]
    },
    {
     "name": "stdout",
     "output_type": "stream",
     "text": [
      "Starting for S15_3\n"
     ]
    },
    {
     "name": "stderr",
     "output_type": "stream",
     "text": [
      "\r",
      "22it [02:59,  8.35s/it]"
     ]
    },
    {
     "name": "stdout",
     "output_type": "stream",
     "text": [
      "Starting for S15_15\n"
     ]
    },
    {
     "name": "stderr",
     "output_type": "stream",
     "text": [
      "/home/kam/CP Project/MNE_Pipeline.py:79: RuntimeWarning: This filename (1_5_trigg_combined_epochs/S16.fif) does not conform to MNE naming conventions. All epochs files should end with -epo.fif, -epo.fif.gz, _epo.fif or _epo.fif.gz\n",
      "  self.epochs = mne.read_epochs(path, verbose=0)\n"
     ]
    },
    {
     "name": "stdout",
     "output_type": "stream",
     "text": [
      "Starting for S16_3\n",
      "Starting for S16_15\n"
     ]
    },
    {
     "name": "stderr",
     "output_type": "stream",
     "text": [
      "23it [03:08,  8.46s/it]/home/kam/CP Project/MNE_Pipeline.py:79: RuntimeWarning: This filename (1_5_trigg_combined_epochs/S17.fif) does not conform to MNE naming conventions. All epochs files should end with -epo.fif, -epo.fif.gz, _epo.fif or _epo.fif.gz\n",
      "  self.epochs = mne.read_epochs(path, verbose=0)\n"
     ]
    },
    {
     "name": "stdout",
     "output_type": "stream",
     "text": [
      "Starting for S17_3\n",
      "Starting for S17_15\n"
     ]
    },
    {
     "name": "stderr",
     "output_type": "stream",
     "text": [
      "24it [03:16,  8.47s/it]/home/kam/CP Project/MNE_Pipeline.py:79: RuntimeWarning: This filename (1_5_trigg_combined_epochs/S18.fif) does not conform to MNE naming conventions. All epochs files should end with -epo.fif, -epo.fif.gz, _epo.fif or _epo.fif.gz\n",
      "  self.epochs = mne.read_epochs(path, verbose=0)\n"
     ]
    },
    {
     "name": "stdout",
     "output_type": "stream",
     "text": [
      "Starting for S18_3\n",
      "Starting for S18_15\n"
     ]
    },
    {
     "name": "stderr",
     "output_type": "stream",
     "text": [
      "25it [03:25,  8.48s/it]/home/kam/CP Project/MNE_Pipeline.py:79: RuntimeWarning: This filename (1_5_trigg_combined_epochs/S19.fif) does not conform to MNE naming conventions. All epochs files should end with -epo.fif, -epo.fif.gz, _epo.fif or _epo.fif.gz\n",
      "  self.epochs = mne.read_epochs(path, verbose=0)\n"
     ]
    },
    {
     "name": "stdout",
     "output_type": "stream",
     "text": [
      "Starting for S19_3\n",
      "Starting for S19_15\n"
     ]
    },
    {
     "name": "stderr",
     "output_type": "stream",
     "text": [
      "26it [03:33,  8.49s/it]/home/kam/CP Project/MNE_Pipeline.py:79: RuntimeWarning: This filename (1_5_trigg_combined_epochs/S2.fif) does not conform to MNE naming conventions. All epochs files should end with -epo.fif, -epo.fif.gz, _epo.fif or _epo.fif.gz\n",
      "  self.epochs = mne.read_epochs(path, verbose=0)\n"
     ]
    },
    {
     "name": "stdout",
     "output_type": "stream",
     "text": [
      "Starting for S2_3\n"
     ]
    },
    {
     "name": "stderr",
     "output_type": "stream",
     "text": [
      "\r",
      "27it [03:43,  8.89s/it]"
     ]
    },
    {
     "name": "stdout",
     "output_type": "stream",
     "text": [
      "Starting for S2_15\n"
     ]
    },
    {
     "name": "stderr",
     "output_type": "stream",
     "text": [
      "/home/kam/CP Project/MNE_Pipeline.py:79: RuntimeWarning: This filename (1_5_trigg_combined_epochs/S20.fif) does not conform to MNE naming conventions. All epochs files should end with -epo.fif, -epo.fif.gz, _epo.fif or _epo.fif.gz\n",
      "  self.epochs = mne.read_epochs(path, verbose=0)\n"
     ]
    },
    {
     "name": "stdout",
     "output_type": "stream",
     "text": [
      "Starting for S20_3\n"
     ]
    },
    {
     "name": "stderr",
     "output_type": "stream",
     "text": [
      "\r",
      "28it [03:53,  9.15s/it]"
     ]
    },
    {
     "name": "stdout",
     "output_type": "stream",
     "text": [
      "Starting for S20_15\n"
     ]
    },
    {
     "name": "stderr",
     "output_type": "stream",
     "text": [
      "/home/kam/CP Project/MNE_Pipeline.py:79: RuntimeWarning: This filename (1_5_trigg_combined_epochs/S21.fif) does not conform to MNE naming conventions. All epochs files should end with -epo.fif, -epo.fif.gz, _epo.fif or _epo.fif.gz\n",
      "  self.epochs = mne.read_epochs(path, verbose=0)\n"
     ]
    },
    {
     "name": "stdout",
     "output_type": "stream",
     "text": [
      "Starting for S21_3\n",
      "Starting for S21_15\n"
     ]
    },
    {
     "name": "stderr",
     "output_type": "stream",
     "text": [
      "29it [04:01,  8.95s/it]/home/kam/CP Project/MNE_Pipeline.py:79: RuntimeWarning: This filename (1_5_trigg_combined_epochs/S3.fif) does not conform to MNE naming conventions. All epochs files should end with -epo.fif, -epo.fif.gz, _epo.fif or _epo.fif.gz\n",
      "  self.epochs = mne.read_epochs(path, verbose=0)\n"
     ]
    },
    {
     "name": "stdout",
     "output_type": "stream",
     "text": [
      "Starting for S3_3\n"
     ]
    },
    {
     "name": "stderr",
     "output_type": "stream",
     "text": [
      "\r",
      "30it [04:10,  8.82s/it]"
     ]
    },
    {
     "name": "stdout",
     "output_type": "stream",
     "text": [
      "Starting for S3_15\n"
     ]
    },
    {
     "name": "stderr",
     "output_type": "stream",
     "text": [
      "/home/kam/CP Project/MNE_Pipeline.py:79: RuntimeWarning: This filename (1_5_trigg_combined_epochs/S4.fif) does not conform to MNE naming conventions. All epochs files should end with -epo.fif, -epo.fif.gz, _epo.fif or _epo.fif.gz\n",
      "  self.epochs = mne.read_epochs(path, verbose=0)\n"
     ]
    },
    {
     "name": "stdout",
     "output_type": "stream",
     "text": [
      "Starting for S4_3\n"
     ]
    },
    {
     "name": "stderr",
     "output_type": "stream",
     "text": [
      "\r",
      "31it [04:18,  8.72s/it]"
     ]
    },
    {
     "name": "stdout",
     "output_type": "stream",
     "text": [
      "Starting for S4_15\n"
     ]
    },
    {
     "name": "stderr",
     "output_type": "stream",
     "text": [
      "/home/kam/CP Project/MNE_Pipeline.py:79: RuntimeWarning: This filename (1_5_trigg_combined_epochs/S5.fif) does not conform to MNE naming conventions. All epochs files should end with -epo.fif, -epo.fif.gz, _epo.fif or _epo.fif.gz\n",
      "  self.epochs = mne.read_epochs(path, verbose=0)\n"
     ]
    },
    {
     "name": "stdout",
     "output_type": "stream",
     "text": [
      "Starting for S5_3\n",
      "Starting for S5_15\n"
     ]
    },
    {
     "name": "stderr",
     "output_type": "stream",
     "text": [
      "32it [04:27,  8.65s/it]/home/kam/CP Project/MNE_Pipeline.py:79: RuntimeWarning: This filename (1_5_trigg_combined_epochs/S6.fif) does not conform to MNE naming conventions. All epochs files should end with -epo.fif, -epo.fif.gz, _epo.fif or _epo.fif.gz\n",
      "  self.epochs = mne.read_epochs(path, verbose=0)\n"
     ]
    },
    {
     "name": "stdout",
     "output_type": "stream",
     "text": [
      "Starting for S6_3\n",
      "Starting for S6_15\n"
     ]
    },
    {
     "name": "stderr",
     "output_type": "stream",
     "text": [
      "33it [04:37,  9.09s/it]/home/kam/CP Project/MNE_Pipeline.py:79: RuntimeWarning: This filename (1_5_trigg_combined_epochs/S7.fif) does not conform to MNE naming conventions. All epochs files should end with -epo.fif, -epo.fif.gz, _epo.fif or _epo.fif.gz\n",
      "  self.epochs = mne.read_epochs(path, verbose=0)\n"
     ]
    },
    {
     "name": "stdout",
     "output_type": "stream",
     "text": [
      "Starting for S7_3\n",
      "Starting for S7_15\n"
     ]
    },
    {
     "name": "stderr",
     "output_type": "stream",
     "text": [
      "34it [04:46,  8.95s/it]/home/kam/CP Project/MNE_Pipeline.py:79: RuntimeWarning: This filename (1_5_trigg_combined_epochs/S8.fif) does not conform to MNE naming conventions. All epochs files should end with -epo.fif, -epo.fif.gz, _epo.fif or _epo.fif.gz\n",
      "  self.epochs = mne.read_epochs(path, verbose=0)\n"
     ]
    },
    {
     "name": "stdout",
     "output_type": "stream",
     "text": [
      "Starting for S8_3\n",
      "Starting for S8_15\n"
     ]
    },
    {
     "name": "stderr",
     "output_type": "stream",
     "text": [
      "35it [04:54,  8.81s/it]/home/kam/CP Project/MNE_Pipeline.py:79: RuntimeWarning: This filename (1_5_trigg_combined_epochs/S9.fif) does not conform to MNE naming conventions. All epochs files should end with -epo.fif, -epo.fif.gz, _epo.fif or _epo.fif.gz\n",
      "  self.epochs = mne.read_epochs(path, verbose=0)\n"
     ]
    },
    {
     "name": "stdout",
     "output_type": "stream",
     "text": [
      "Starting for S9_3\n",
      "Starting for S9_15\n"
     ]
    },
    {
     "name": "stderr",
     "output_type": "stream",
     "text": [
      "36it [05:03,  8.73s/it]/home/kam/CP Project/MNE_Pipeline.py:79: RuntimeWarning: This filename (1_5_trigg_combined_epochs/T1.fif) does not conform to MNE naming conventions. All epochs files should end with -epo.fif, -epo.fif.gz, _epo.fif or _epo.fif.gz\n",
      "  self.epochs = mne.read_epochs(path, verbose=0)\n"
     ]
    },
    {
     "name": "stdout",
     "output_type": "stream",
     "text": [
      "Starting for T1_3\n",
      "Starting for T1_15\n"
     ]
    },
    {
     "name": "stderr",
     "output_type": "stream",
     "text": [
      "37it [05:11,  8.65s/it]/home/kam/CP Project/MNE_Pipeline.py:79: RuntimeWarning: This filename (1_5_trigg_combined_epochs/T10.fif) does not conform to MNE naming conventions. All epochs files should end with -epo.fif, -epo.fif.gz, _epo.fif or _epo.fif.gz\n",
      "  self.epochs = mne.read_epochs(path, verbose=0)\n"
     ]
    },
    {
     "name": "stdout",
     "output_type": "stream",
     "text": [
      "Starting for T10_3\n",
      "Starting for T10_15\n"
     ]
    },
    {
     "name": "stderr",
     "output_type": "stream",
     "text": [
      "38it [05:21,  9.06s/it]/home/kam/CP Project/MNE_Pipeline.py:79: RuntimeWarning: This filename (1_5_trigg_combined_epochs/T11.fif) does not conform to MNE naming conventions. All epochs files should end with -epo.fif, -epo.fif.gz, _epo.fif or _epo.fif.gz\n",
      "  self.epochs = mne.read_epochs(path, verbose=0)\n"
     ]
    },
    {
     "name": "stdout",
     "output_type": "stream",
     "text": [
      "Starting for T11_3\n",
      "Starting for T11_15\n"
     ]
    },
    {
     "name": "stderr",
     "output_type": "stream",
     "text": [
      "39it [05:31,  9.19s/it]/home/kam/CP Project/MNE_Pipeline.py:79: RuntimeWarning: This filename (1_5_trigg_combined_epochs/T12.fif) does not conform to MNE naming conventions. All epochs files should end with -epo.fif, -epo.fif.gz, _epo.fif or _epo.fif.gz\n",
      "  self.epochs = mne.read_epochs(path, verbose=0)\n"
     ]
    },
    {
     "name": "stdout",
     "output_type": "stream",
     "text": [
      "Starting for T12_3\n",
      "Starting for T12_15\n"
     ]
    },
    {
     "name": "stderr",
     "output_type": "stream",
     "text": [
      "40it [05:39,  8.98s/it]/home/kam/CP Project/MNE_Pipeline.py:79: RuntimeWarning: This filename (1_5_trigg_combined_epochs/T13.fif) does not conform to MNE naming conventions. All epochs files should end with -epo.fif, -epo.fif.gz, _epo.fif or _epo.fif.gz\n",
      "  self.epochs = mne.read_epochs(path, verbose=0)\n"
     ]
    },
    {
     "name": "stdout",
     "output_type": "stream",
     "text": [
      "Starting for T13_3\n",
      "Starting for T13_15\n"
     ]
    },
    {
     "name": "stderr",
     "output_type": "stream",
     "text": [
      "41it [05:48,  8.83s/it]/home/kam/CP Project/MNE_Pipeline.py:79: RuntimeWarning: This filename (1_5_trigg_combined_epochs/T14.fif) does not conform to MNE naming conventions. All epochs files should end with -epo.fif, -epo.fif.gz, _epo.fif or _epo.fif.gz\n",
      "  self.epochs = mne.read_epochs(path, verbose=0)\n"
     ]
    },
    {
     "name": "stdout",
     "output_type": "stream",
     "text": [
      "Starting for T14_3\n",
      "Starting for T14_15\n"
     ]
    },
    {
     "name": "stderr",
     "output_type": "stream",
     "text": [
      "42it [05:56,  8.74s/it]/home/kam/CP Project/MNE_Pipeline.py:79: RuntimeWarning: This filename (1_5_trigg_combined_epochs/T2.fif) does not conform to MNE naming conventions. All epochs files should end with -epo.fif, -epo.fif.gz, _epo.fif or _epo.fif.gz\n",
      "  self.epochs = mne.read_epochs(path, verbose=0)\n"
     ]
    },
    {
     "name": "stdout",
     "output_type": "stream",
     "text": [
      "Starting for T2_3\n",
      "Starting for T2_15\n"
     ]
    },
    {
     "name": "stderr",
     "output_type": "stream",
     "text": [
      "43it [06:05,  8.65s/it]/home/kam/CP Project/MNE_Pipeline.py:79: RuntimeWarning: This filename (1_5_trigg_combined_epochs/T3.fif) does not conform to MNE naming conventions. All epochs files should end with -epo.fif, -epo.fif.gz, _epo.fif or _epo.fif.gz\n",
      "  self.epochs = mne.read_epochs(path, verbose=0)\n"
     ]
    },
    {
     "name": "stdout",
     "output_type": "stream",
     "text": [
      "Starting for T3_3\n",
      "Starting for T3_15\n"
     ]
    },
    {
     "name": "stderr",
     "output_type": "stream",
     "text": [
      "44it [06:14,  9.00s/it]/home/kam/CP Project/MNE_Pipeline.py:79: RuntimeWarning: This filename (1_5_trigg_combined_epochs/T4.fif) does not conform to MNE naming conventions. All epochs files should end with -epo.fif, -epo.fif.gz, _epo.fif or _epo.fif.gz\n",
      "  self.epochs = mne.read_epochs(path, verbose=0)\n"
     ]
    },
    {
     "name": "stdout",
     "output_type": "stream",
     "text": [
      "Starting for T4_3\n"
     ]
    },
    {
     "name": "stderr",
     "output_type": "stream",
     "text": [
      "\r",
      "45it [06:24,  9.25s/it]"
     ]
    },
    {
     "name": "stdout",
     "output_type": "stream",
     "text": [
      "Starting for T4_15\n"
     ]
    },
    {
     "name": "stderr",
     "output_type": "stream",
     "text": [
      "/home/kam/CP Project/MNE_Pipeline.py:79: RuntimeWarning: This filename (1_5_trigg_combined_epochs/T5.fif) does not conform to MNE naming conventions. All epochs files should end with -epo.fif, -epo.fif.gz, _epo.fif or _epo.fif.gz\n",
      "  self.epochs = mne.read_epochs(path, verbose=0)\n"
     ]
    },
    {
     "name": "stdout",
     "output_type": "stream",
     "text": [
      "Starting for T5_3\n"
     ]
    },
    {
     "name": "stderr",
     "output_type": "stream",
     "text": [
      "\r",
      "46it [06:33,  9.02s/it]"
     ]
    },
    {
     "name": "stdout",
     "output_type": "stream",
     "text": [
      "Starting for T5_15\n"
     ]
    },
    {
     "name": "stderr",
     "output_type": "stream",
     "text": [
      "/home/kam/CP Project/MNE_Pipeline.py:79: RuntimeWarning: This filename (1_5_trigg_combined_epochs/T6.fif) does not conform to MNE naming conventions. All epochs files should end with -epo.fif, -epo.fif.gz, _epo.fif or _epo.fif.gz\n",
      "  self.epochs = mne.read_epochs(path, verbose=0)\n"
     ]
    },
    {
     "name": "stdout",
     "output_type": "stream",
     "text": [
      "Starting for T6_3\n"
     ]
    },
    {
     "name": "stderr",
     "output_type": "stream",
     "text": [
      "\r",
      "47it [06:41,  8.85s/it]"
     ]
    },
    {
     "name": "stdout",
     "output_type": "stream",
     "text": [
      "Starting for T6_15\n"
     ]
    },
    {
     "name": "stderr",
     "output_type": "stream",
     "text": [
      "/home/kam/CP Project/MNE_Pipeline.py:79: RuntimeWarning: This filename (1_5_trigg_combined_epochs/T7.fif) does not conform to MNE naming conventions. All epochs files should end with -epo.fif, -epo.fif.gz, _epo.fif or _epo.fif.gz\n",
      "  self.epochs = mne.read_epochs(path, verbose=0)\n"
     ]
    },
    {
     "name": "stdout",
     "output_type": "stream",
     "text": [
      "Starting for T7_3\n",
      "Starting for T7_15\n"
     ]
    },
    {
     "name": "stderr",
     "output_type": "stream",
     "text": [
      "48it [06:50,  8.81s/it]/home/kam/CP Project/MNE_Pipeline.py:79: RuntimeWarning: This filename (1_5_trigg_combined_epochs/T8.fif) does not conform to MNE naming conventions. All epochs files should end with -epo.fif, -epo.fif.gz, _epo.fif or _epo.fif.gz\n",
      "  self.epochs = mne.read_epochs(path, verbose=0)\n"
     ]
    },
    {
     "name": "stdout",
     "output_type": "stream",
     "text": [
      "Starting for T8_3\n",
      "Starting for T8_15\n"
     ]
    },
    {
     "name": "stderr",
     "output_type": "stream",
     "text": [
      "49it [06:58,  8.72s/it]/home/kam/CP Project/MNE_Pipeline.py:79: RuntimeWarning: This filename (1_5_trigg_combined_epochs/T9.fif) does not conform to MNE naming conventions. All epochs files should end with -epo.fif, -epo.fif.gz, _epo.fif or _epo.fif.gz\n",
      "  self.epochs = mne.read_epochs(path, verbose=0)\n"
     ]
    },
    {
     "name": "stdout",
     "output_type": "stream",
     "text": [
      "Starting for T9_3\n"
     ]
    },
    {
     "name": "stderr",
     "output_type": "stream",
     "text": [
      "\r",
      "50it [07:07,  8.57s/it]"
     ]
    },
    {
     "name": "stdout",
     "output_type": "stream",
     "text": [
      "Starting for T9_15\n"
     ]
    },
    {
     "name": "stderr",
     "output_type": "stream",
     "text": [
      "50it [07:07,  8.54s/it]\n"
     ]
    }
   ],
   "source": [
    "for path, subject in tqdm(zip(subject_epoch_combined_paths, subjects)):\n",
    "    epochs = mp.load_epochs(path)\n",
    "    mp_ext.async_bootstrap_epochs(subject, epochs, iterations=500, sampling_rate=30)"
   ]
  },
  {
   "cell_type": "code",
   "execution_count": 6,
   "metadata": {},
   "outputs": [
    {
     "data": {
      "text/plain": [
       "{'3': array([[[-3.61362569e+00, -3.88705418e+00, -3.84298922e+00, ...,\n",
       "          -1.10961062e+01, -1.12359329e+01, -9.11730862e+00],\n",
       "         [-3.15109057e+00, -3.39263472e+00, -3.38389796e+00, ...,\n",
       "          -1.25802560e+01, -1.26147894e+01, -1.01492269e+01],\n",
       "         [-3.88804215e+00, -4.28629715e+00, -4.37682820e+00, ...,\n",
       "          -1.81785453e+01, -1.80766934e+01, -1.42268177e+01],\n",
       "         ...,\n",
       "         [-1.08143175e-01, -6.84951213e-02, -5.98093963e-02, ...,\n",
       "           2.69098508e+00,  3.43028445e+00,  1.48670103e+00],\n",
       "         [ 3.27580945e+00,  3.44756066e+00,  3.43894051e+00, ...,\n",
       "           4.75180944e+00,  5.46053591e+00,  4.15400512e+00],\n",
       "         [ 1.91885112e+00,  2.06293658e+00,  1.98583025e+00, ...,\n",
       "           1.73291516e-01,  1.59495885e+00,  3.91027672e-01]],\n",
       " \n",
       "        [[-1.26521812e-01,  3.35004176e-02,  3.37112328e-01, ...,\n",
       "          -7.37474194e-01, -5.33395711e-01, -7.12052619e-01],\n",
       "         [-1.35157327e-01, -1.41278247e-02,  2.50928354e-01, ...,\n",
       "          -7.72846959e-01, -6.30790768e-01, -7.84205087e-01],\n",
       "         [-3.38089895e-01, -2.27705872e-01,  6.70909425e-02, ...,\n",
       "          -8.15464994e-01, -7.16163618e-01, -9.32156304e-01],\n",
       "         ...,\n",
       "         [ 8.77955796e-01,  9.45393372e-01,  8.47783434e-01, ...,\n",
       "           3.54171518e-01,  3.87751146e-01,  3.54289385e-01],\n",
       "         [ 1.10519235e+00,  8.56290552e-01,  5.51095488e-01, ...,\n",
       "           1.47623280e-01,  2.72887239e-01,  4.35611012e-01],\n",
       "         [ 1.32331448e+00,  1.09989386e+00,  7.21652370e-01, ...,\n",
       "           4.19454210e-01,  6.34789878e-01,  8.07767438e-01]],\n",
       " \n",
       "        [[ 9.25138454e-01,  4.16636229e-01,  1.99329878e-01, ...,\n",
       "           2.84356722e-01,  2.54758218e-01,  4.05550303e-01],\n",
       "         [ 1.06233095e+00,  5.77228695e-01,  3.61929598e-01, ...,\n",
       "           7.41799245e-01,  6.68295023e-01,  7.38076303e-01],\n",
       "         [ 1.30261555e+00,  6.94609455e-01,  4.26576853e-01, ...,\n",
       "           1.39580333e+00,  1.31551766e+00,  1.30156203e+00],\n",
       "         ...,\n",
       "         [ 2.03280225e-03,  9.48612362e-02,  2.17568045e-01, ...,\n",
       "          -1.12206677e+00, -9.36457033e-01, -9.75816830e-01],\n",
       "         [-2.11442554e-01,  1.89863862e-01,  4.43909725e-01, ...,\n",
       "          -1.40030810e+00, -1.27324456e+00, -1.17848188e+00],\n",
       "         [ 4.95763234e-02,  4.17932069e-01,  7.14318238e-01, ...,\n",
       "          -1.36485870e+00, -1.17695457e+00, -1.12544854e+00]],\n",
       " \n",
       "        ...,\n",
       " \n",
       "        [[ 1.45583390e-01, -1.53887821e-01, -8.67264934e-02, ...,\n",
       "          -7.38294768e-01, -7.75384322e-01, -7.61664079e-01],\n",
       "         [-2.42730354e-01, -4.44773733e-01, -3.55113230e-01, ...,\n",
       "          -1.07106617e+00, -1.07557604e+00, -1.03758722e+00],\n",
       "         [-1.92856790e+00, -2.01603287e+00, -1.81129725e+00, ...,\n",
       "          -2.27178292e+00, -2.27490956e+00, -2.22621409e+00],\n",
       "         ...,\n",
       "         [ 4.85297567e+00,  4.39847956e+00,  4.03182077e+00, ...,\n",
       "           4.14792364e+00,  4.07348695e+00,  3.86908826e+00],\n",
       "         [-5.71806943e-01, -8.15403341e-01, -1.05499197e+00, ...,\n",
       "           1.54870727e+00,  1.58425401e+00,  1.57998327e+00],\n",
       "         [ 2.61489412e-01,  4.32649239e-02, -1.78979852e-01, ...,\n",
       "           2.47378214e+00,  2.43901766e+00,  2.26603039e+00]],\n",
       " \n",
       "        [[ 1.11983046e-01,  4.64204642e-02,  6.86870644e-02, ...,\n",
       "          -7.76956832e-01, -7.48453219e-01, -6.69115689e-01],\n",
       "         [ 3.87504740e-01,  2.74309622e-01,  2.19355006e-01, ...,\n",
       "          -3.27279719e-01, -3.41398889e-01, -3.21206719e-01],\n",
       "         [ 3.55147969e-01,  1.84970696e-01,  7.13781923e-02, ...,\n",
       "          -2.91334384e-01, -3.00281576e-01, -3.56077762e-01],\n",
       "         ...,\n",
       "         [-1.18988280e+00, -1.22134531e+00, -1.25217510e+00, ...,\n",
       "          -4.04641143e-01, -4.01924616e-01, -4.38563606e-01],\n",
       "         [-2.10717745e+00, -2.00230287e+00, -1.83907185e+00, ...,\n",
       "          -1.01828048e+00, -9.43959655e-01, -8.59024475e-01],\n",
       "         [-2.30878135e+00, -2.40599408e+00, -2.32451321e+00, ...,\n",
       "          -3.86555150e-01, -4.03145173e-01, -4.88080119e-01]],\n",
       " \n",
       "        [[-2.67188949e-01, -3.84257271e-01, -5.31931908e-01, ...,\n",
       "          -5.21854931e+00, -5.22580230e+00, -4.18692934e+00],\n",
       "         [-4.35993089e-02, -2.54994520e-01, -4.53180679e-01, ...,\n",
       "          -5.73001681e+00, -5.67937321e+00, -4.45454364e+00],\n",
       "         [-2.18476096e-01, -6.37189322e-01, -9.50064029e-01, ...,\n",
       "          -8.00740563e+00, -7.85886748e+00, -5.99804359e+00],\n",
       "         ...,\n",
       "         [ 1.04974197e+00,  1.16500547e+00,  1.19846497e+00, ...,\n",
       "           2.20504813e+00,  2.82530453e+00,  1.97791259e+00],\n",
       "         [ 6.31428898e-01,  9.26668285e-01,  1.17682177e+00, ...,\n",
       "           1.45893789e+00,  1.69596905e+00,  9.53814505e-01],\n",
       "         [ 2.47877461e+00,  2.73719690e+00,  2.96284476e+00, ...,\n",
       "          -5.73244013e-01,  1.41222503e-01, -4.67325944e-01]]]),\n",
       " '15': array([[[-2.15694579e+00, -1.98485687e+00, -1.91468282e+00, ...,\n",
       "           1.07057682e-01, -5.60693306e-02, -3.60114942e-01],\n",
       "         [-1.88048098e+00, -1.70165063e+00, -1.58510348e+00, ...,\n",
       "          -3.23690166e-01, -4.19827133e-01, -5.97609891e-01],\n",
       "         [-2.03403511e+00, -1.79066564e+00, -1.65976368e+00, ...,\n",
       "          -8.44419027e-01, -8.51046743e-01, -8.52296767e-01],\n",
       "         ...,\n",
       "         [ 1.67249374e+00,  1.63342152e+00,  1.58721378e+00, ...,\n",
       "           1.36915364e+00,  1.40580798e+00,  1.47337479e+00],\n",
       "         [ 1.42938886e+00,  1.37353027e+00,  1.32122341e+00, ...,\n",
       "           3.23164382e-01,  3.24803278e-01,  2.99257581e-01],\n",
       "         [ 1.99960304e+00,  1.92128849e+00,  1.86336131e+00, ...,\n",
       "           1.41181696e+00,  1.38166408e+00,  1.29722142e+00]],\n",
       " \n",
       "        [[ 3.39047680e-01,  5.84130803e-01,  6.00233144e-01, ...,\n",
       "          -2.40666924e+00, -2.24463624e+00, -2.29755350e+00],\n",
       "         [ 2.87185451e-01,  4.01812031e-01,  3.66266423e-01, ...,\n",
       "          -1.84593828e+00, -1.75183712e+00, -1.78617932e+00],\n",
       "         [-8.87494847e-02, -3.65976661e-02, -1.38766711e-01, ...,\n",
       "          -2.36723614e+00, -2.29149280e+00, -2.26116469e+00],\n",
       "         ...,\n",
       "         [ 1.12180745e+00,  1.01860014e+00,  9.61315608e-01, ...,\n",
       "           2.31763718e+00,  2.23277884e+00,  1.99428756e+00],\n",
       "         [ 5.20513380e-01,  4.85761515e-01,  5.25900898e-01, ...,\n",
       "           6.58359834e-01,  7.34970648e-01,  9.21553161e-01],\n",
       "         [ 1.63301094e+00,  1.44816907e+00,  1.38247157e+00, ...,\n",
       "           1.96474331e+00,  2.07859916e+00,  2.19093621e+00]],\n",
       " \n",
       "        [[ 3.16966340e-01,  3.63532318e-01,  2.80554937e-01, ...,\n",
       "          -4.25810627e-01, -3.75359975e-01, -3.68993860e-01],\n",
       "         [ 3.19169754e-01,  3.54399364e-01,  2.46233193e-01, ...,\n",
       "          -4.57058544e-01, -3.86079929e-01, -3.63125816e-01],\n",
       "         [ 2.60330806e-02,  2.62572950e-01,  1.83498120e-01, ...,\n",
       "          -6.89558646e-01, -5.93794099e-01, -6.14356516e-01],\n",
       "         ...,\n",
       "         [-6.18501583e-01, -7.36759304e-01, -6.95218046e-01, ...,\n",
       "           2.87563031e-03, -4.41234112e-02, -2.45324848e-02],\n",
       "         [ 7.53062906e-01,  4.92615495e-01,  4.51074443e-01, ...,\n",
       "           2.09994417e-01,  2.02168966e-01,  2.26975953e-01],\n",
       "         [ 5.88442490e-01,  3.26603176e-01,  2.74641325e-01, ...,\n",
       "           1.90725210e-01,  2.59241774e-01,  2.96753745e-01]],\n",
       " \n",
       "        ...,\n",
       " \n",
       "        [[-1.94069117e+00, -1.80987646e+00, -1.79228846e+00, ...,\n",
       "          -2.84063719e+00, -2.82291155e+00, -2.55571780e+00],\n",
       "         [-1.78430477e+00, -1.68658862e+00, -1.67595223e+00, ...,\n",
       "          -2.49426934e+00, -2.47542691e+00, -2.25986110e+00],\n",
       "         [-2.52213246e+00, -2.41048118e+00, -2.45579363e+00, ...,\n",
       "          -3.19467921e+00, -3.16129047e+00, -2.84329968e+00],\n",
       "         ...,\n",
       "         [ 7.01942303e+00,  6.61608660e+00,  6.29890394e+00, ...,\n",
       "           3.38126854e+00,  3.39178785e+00,  3.39629611e+00],\n",
       "         [ 1.14954718e+00,  1.04396874e+00,  1.07003708e+00, ...,\n",
       "           1.91981094e+00,  1.97401868e+00,  1.87640037e+00],\n",
       "         [ 2.77356238e-01, -1.22498209e-02, -1.84360954e-01, ...,\n",
       "           2.73995863e+00,  2.83623573e+00,  2.84306771e+00]],\n",
       " \n",
       "        [[-6.14371206e-01, -3.72424761e-01, -1.97037810e-01, ...,\n",
       "          -1.14629015e+00, -9.78786551e-01, -8.79709244e-01],\n",
       "         [-6.52488650e-01, -4.85908924e-01, -3.32209200e-01, ...,\n",
       "          -1.19208686e+00, -1.01786733e+00, -9.79591393e-01],\n",
       "         [-7.94924915e-01, -6.61346621e-01, -6.12517382e-01, ...,\n",
       "          -1.46170463e+00, -1.14195911e+00, -1.06954336e+00],\n",
       "         ...,\n",
       "         [ 9.67653031e-01,  7.54664055e-01,  4.60991214e-01, ...,\n",
       "           1.81546839e+00,  1.82574724e+00,  1.79957992e+00],\n",
       "         [-5.14551633e-01, -5.71144151e-01, -5.81626739e-01, ...,\n",
       "          -2.88765444e-01, -5.12354202e-01, -6.13293901e-01],\n",
       "         [-3.45018063e-01, -3.92202307e-01, -4.88629542e-01, ...,\n",
       "           1.71634959e-01, -4.25807968e-02, -2.56903664e-01]],\n",
       " \n",
       "        [[-1.67482702e+00, -1.60726797e+00, -1.54967671e+00, ...,\n",
       "          -2.45744833e+00, -2.27312323e+00, -2.09020983e+00],\n",
       "         [-1.09585503e+00, -1.07675044e+00, -1.06209541e+00, ...,\n",
       "          -1.93088343e+00, -1.75809059e+00, -1.61162069e+00],\n",
       "         [-1.07302197e+00, -1.04487916e+00, -1.05220792e+00, ...,\n",
       "          -2.56881746e+00, -2.24612013e+00, -1.93295483e+00],\n",
       "         ...,\n",
       "         [ 6.48743992e-01,  8.51108127e-01,  1.07675355e+00, ...,\n",
       "          -1.22514229e+00, -1.10649567e+00, -8.68113456e-01],\n",
       "         [ 2.71438410e-01,  3.52059865e-01,  3.96224992e-01, ...,\n",
       "           2.04886488e-01,  1.67175764e-01,  1.41179623e-01],\n",
       "         [ 1.01273439e+00,  1.13719070e+00,  1.23597781e+00, ...,\n",
       "          -4.49913852e-01, -3.11812157e-01, -1.25117121e-01]]])}"
      ]
     },
     "execution_count": 6,
     "metadata": {},
     "output_type": "execute_result"
    }
   ],
   "source": [
    "with open('bootstrap_erps_cl_vs_amb_2/T4', 'rb') as file:\n",
    "    di = pickle.load(file)\n",
    "di"
   ]
  },
  {
   "cell_type": "markdown",
   "metadata": {},
   "source": [
    "## Get Average Band Power"
   ]
  },
  {
   "cell_type": "code",
   "execution_count": 4,
   "metadata": {},
   "outputs": [
    {
     "name": "stderr",
     "output_type": "stream",
     "text": [
      "50it [05:25,  6.51s/it]\n"
     ]
    }
   ],
   "source": [
    "avg_bp_dict = dict()\n",
    "mp.Fs = 500\n",
    "for subject, path in tqdm(zip(subjects, subject_bts_erp_path)):\n",
    "    file = open(path, 'rb')\n",
    "    data = pickle.load(file)\n",
    "    mp.epochs_raw = None\n",
    "    mp.epochs_raw = np.append(data['3'], data['15'], axis=0)\n",
    "    avg_bp_dict[subject] = mp.get_avg_band_power()\n",
    "    file.close()"
   ]
  },
  {
   "cell_type": "code",
   "execution_count": 5,
   "metadata": {},
   "outputs": [],
   "source": [
    "with open('Avg_bp_BTS_dict_trigg', 'wb') as f:\n",
    "    pickle.dump(avg_bp_dict, f)"
   ]
  },
  {
   "cell_type": "code",
   "execution_count": 4,
   "metadata": {},
   "outputs": [
    {
     "data": {
      "text/plain": [
       "(1000, 192)"
      ]
     },
     "execution_count": 4,
     "metadata": {},
     "output_type": "execute_result"
    }
   ],
   "source": [
    "with open('Avg_bp_BTS_dict_trigg', 'rb') as f:\n",
    "    avg_bp_dict = pickle.load(f)\n",
    "avg_bp_dict['N11'].shape"
   ]
  },
  {
   "cell_type": "markdown",
   "metadata": {},
   "source": [
    "## Generate Band Topomaps"
   ]
  },
  {
   "cell_type": "code",
   "execution_count": 6,
   "metadata": {},
   "outputs": [
    {
     "name": "stderr",
     "output_type": "stream",
     "text": [
      "100%|██████████| 50/50 [2:33:19<00:00, 183.99s/it]  \n"
     ]
    }
   ],
   "source": [
    "for subject in tqdm(subjects):\n",
    "    avg_bp = avg_bp_dict[subject]\n",
    "    mp.async_save_band_power_topo(subject, avg_bp)"
   ]
  },
  {
   "cell_type": "code",
   "execution_count": 5,
   "metadata": {},
   "outputs": [
    {
     "name": "stderr",
     "output_type": "stream",
     "text": [
      "100%|██████████| 50/50 [00:34<00:00,  1.47it/s]\n"
     ]
    }
   ],
   "source": [
    "for subject in tqdm(subjects):\n",
    "    avg_bp = avg_bp_dict[subject]\n",
    "    mp.async_save_combined_topomap(subject, len(avg_bp))"
   ]
  },
  {
   "cell_type": "code",
   "execution_count": 7,
   "metadata": {},
   "outputs": [
    {
     "name": "stderr",
     "output_type": "stream",
     "text": [
      "50it [00:09,  5.37it/s]\n"
     ]
    }
   ],
   "source": [
    "label_mappers = dict()\n",
    "for subject, path in tqdm(zip(subjects, subject_bts_erp_path)):\n",
    "    file = open(path, 'rb')\n",
    "    data = pickle.load(file)\n",
    "    label_3 = np.full(len(data['3']), 3)\n",
    "    label_15 = np.full(len(data['15']), 15)\n",
    "    labels = np.append(label_3, label_15)\n",
    "    label_mappers[subject] = labels"
   ]
  },
  {
   "cell_type": "code",
   "execution_count": 8,
   "metadata": {},
   "outputs": [
    {
     "name": "stderr",
     "output_type": "stream",
     "text": [
      "\r",
      "  0%|          | 0/50 [00:00<?, ?it/s]"
     ]
    },
    {
     "name": "stdout",
     "output_type": "stream",
     "text": [
      "200\n",
      "100\n"
     ]
    },
    {
     "name": "stderr",
     "output_type": "stream",
     "text": [
      "\r",
      "  2%|▏         | 1/50 [00:01<01:14,  1.53s/it]"
     ]
    },
    {
     "name": "stdout",
     "output_type": "stream",
     "text": [
      "200\n",
      "100\n"
     ]
    },
    {
     "name": "stderr",
     "output_type": "stream",
     "text": [
      "\r",
      "  4%|▍         | 2/50 [00:03<01:14,  1.54s/it]"
     ]
    },
    {
     "name": "stdout",
     "output_type": "stream",
     "text": [
      "200\n",
      "100\n"
     ]
    },
    {
     "name": "stderr",
     "output_type": "stream",
     "text": [
      "\r",
      "  6%|▌         | 3/50 [00:04<01:12,  1.55s/it]"
     ]
    },
    {
     "name": "stdout",
     "output_type": "stream",
     "text": [
      "200\n",
      "100\n"
     ]
    },
    {
     "name": "stderr",
     "output_type": "stream",
     "text": [
      "\r",
      "  8%|▊         | 4/50 [00:06<01:12,  1.57s/it]"
     ]
    },
    {
     "name": "stdout",
     "output_type": "stream",
     "text": [
      "200\n",
      "100\n"
     ]
    },
    {
     "name": "stderr",
     "output_type": "stream",
     "text": [
      "\r",
      " 10%|█         | 5/50 [00:07<01:10,  1.56s/it]"
     ]
    },
    {
     "name": "stdout",
     "output_type": "stream",
     "text": [
      "200\n",
      "100\n"
     ]
    },
    {
     "name": "stderr",
     "output_type": "stream",
     "text": [
      "\r",
      " 12%|█▏        | 6/50 [00:09<01:06,  1.51s/it]"
     ]
    },
    {
     "name": "stdout",
     "output_type": "stream",
     "text": [
      "200\n",
      "100\n"
     ]
    },
    {
     "name": "stderr",
     "output_type": "stream",
     "text": [
      "\r",
      " 14%|█▍        | 7/50 [00:10<01:06,  1.55s/it]"
     ]
    },
    {
     "name": "stdout",
     "output_type": "stream",
     "text": [
      "200\n",
      "100\n"
     ]
    },
    {
     "name": "stderr",
     "output_type": "stream",
     "text": [
      "\r",
      " 16%|█▌        | 8/50 [00:12<01:04,  1.53s/it]"
     ]
    },
    {
     "name": "stdout",
     "output_type": "stream",
     "text": [
      "200\n",
      "100\n"
     ]
    },
    {
     "name": "stderr",
     "output_type": "stream",
     "text": [
      "\r",
      " 18%|█▊        | 9/50 [00:13<01:03,  1.55s/it]"
     ]
    },
    {
     "name": "stdout",
     "output_type": "stream",
     "text": [
      "200\n",
      "100\n"
     ]
    },
    {
     "name": "stderr",
     "output_type": "stream",
     "text": [
      "\r",
      " 20%|██        | 10/50 [00:15<01:03,  1.58s/it]"
     ]
    },
    {
     "name": "stdout",
     "output_type": "stream",
     "text": [
      "200\n",
      "100\n"
     ]
    },
    {
     "name": "stderr",
     "output_type": "stream",
     "text": [
      "\r",
      " 22%|██▏       | 11/50 [00:17<01:01,  1.58s/it]"
     ]
    },
    {
     "name": "stdout",
     "output_type": "stream",
     "text": [
      "200\n",
      "100\n"
     ]
    },
    {
     "name": "stderr",
     "output_type": "stream",
     "text": [
      "\r",
      " 24%|██▍       | 12/50 [00:18<01:00,  1.58s/it]"
     ]
    },
    {
     "name": "stdout",
     "output_type": "stream",
     "text": [
      "200\n",
      "100\n"
     ]
    },
    {
     "name": "stderr",
     "output_type": "stream",
     "text": [
      "\r",
      " 26%|██▌       | 13/50 [00:20<00:57,  1.55s/it]"
     ]
    },
    {
     "name": "stdout",
     "output_type": "stream",
     "text": [
      "200\n",
      "100\n"
     ]
    },
    {
     "name": "stderr",
     "output_type": "stream",
     "text": [
      "\r",
      " 28%|██▊       | 14/50 [00:21<00:56,  1.56s/it]"
     ]
    },
    {
     "name": "stdout",
     "output_type": "stream",
     "text": [
      "200\n",
      "100\n"
     ]
    },
    {
     "name": "stderr",
     "output_type": "stream",
     "text": [
      "\r",
      " 30%|███       | 15/50 [00:23<00:55,  1.58s/it]"
     ]
    },
    {
     "name": "stdout",
     "output_type": "stream",
     "text": [
      "200\n",
      "100\n"
     ]
    },
    {
     "name": "stderr",
     "output_type": "stream",
     "text": [
      "\r",
      " 32%|███▏      | 16/50 [00:24<00:52,  1.55s/it]"
     ]
    },
    {
     "name": "stdout",
     "output_type": "stream",
     "text": [
      "200\n",
      "100\n"
     ]
    },
    {
     "name": "stderr",
     "output_type": "stream",
     "text": [
      "\r",
      " 34%|███▍      | 17/50 [00:26<00:52,  1.58s/it]"
     ]
    },
    {
     "name": "stdout",
     "output_type": "stream",
     "text": [
      "200\n",
      "100\n"
     ]
    },
    {
     "name": "stderr",
     "output_type": "stream",
     "text": [
      "\r",
      " 36%|███▌      | 18/50 [00:28<00:50,  1.57s/it]"
     ]
    },
    {
     "name": "stdout",
     "output_type": "stream",
     "text": [
      "200\n",
      "100\n"
     ]
    },
    {
     "name": "stderr",
     "output_type": "stream",
     "text": [
      "\r",
      " 38%|███▊      | 19/50 [00:29<00:48,  1.55s/it]"
     ]
    },
    {
     "name": "stdout",
     "output_type": "stream",
     "text": [
      "200\n",
      "100\n"
     ]
    },
    {
     "name": "stderr",
     "output_type": "stream",
     "text": [
      "\r",
      " 40%|████      | 20/50 [00:31<00:46,  1.56s/it]"
     ]
    },
    {
     "name": "stdout",
     "output_type": "stream",
     "text": [
      "200\n",
      "100\n"
     ]
    },
    {
     "name": "stderr",
     "output_type": "stream",
     "text": [
      "\r",
      " 42%|████▏     | 21/50 [00:32<00:45,  1.58s/it]"
     ]
    },
    {
     "name": "stdout",
     "output_type": "stream",
     "text": [
      "200\n",
      "100\n"
     ]
    },
    {
     "name": "stderr",
     "output_type": "stream",
     "text": [
      "\r",
      " 44%|████▍     | 22/50 [00:34<00:43,  1.57s/it]"
     ]
    },
    {
     "name": "stdout",
     "output_type": "stream",
     "text": [
      "200\n",
      "100\n"
     ]
    },
    {
     "name": "stderr",
     "output_type": "stream",
     "text": [
      "\r",
      " 46%|████▌     | 23/50 [00:36<00:42,  1.59s/it]"
     ]
    },
    {
     "name": "stdout",
     "output_type": "stream",
     "text": [
      "200\n",
      "100\n"
     ]
    },
    {
     "name": "stderr",
     "output_type": "stream",
     "text": [
      "\r",
      " 48%|████▊     | 24/50 [00:37<00:41,  1.60s/it]"
     ]
    },
    {
     "name": "stdout",
     "output_type": "stream",
     "text": [
      "200\n",
      "100\n"
     ]
    },
    {
     "name": "stderr",
     "output_type": "stream",
     "text": [
      "\r",
      " 50%|█████     | 25/50 [00:39<00:39,  1.57s/it]"
     ]
    },
    {
     "name": "stdout",
     "output_type": "stream",
     "text": [
      "200\n",
      "100\n"
     ]
    },
    {
     "name": "stderr",
     "output_type": "stream",
     "text": [
      "\r",
      " 52%|█████▏    | 26/50 [00:40<00:38,  1.59s/it]"
     ]
    },
    {
     "name": "stdout",
     "output_type": "stream",
     "text": [
      "200\n",
      "100\n"
     ]
    },
    {
     "name": "stderr",
     "output_type": "stream",
     "text": [
      "\r",
      " 54%|█████▍    | 27/50 [00:42<00:36,  1.60s/it]"
     ]
    },
    {
     "name": "stdout",
     "output_type": "stream",
     "text": [
      "200\n",
      "100\n"
     ]
    },
    {
     "name": "stderr",
     "output_type": "stream",
     "text": [
      "\r",
      " 56%|█████▌    | 28/50 [00:43<00:34,  1.58s/it]"
     ]
    },
    {
     "name": "stdout",
     "output_type": "stream",
     "text": [
      "200\n",
      "100\n"
     ]
    },
    {
     "name": "stderr",
     "output_type": "stream",
     "text": [
      "\r",
      " 58%|█████▊    | 29/50 [00:45<00:32,  1.53s/it]"
     ]
    },
    {
     "name": "stdout",
     "output_type": "stream",
     "text": [
      "200\n",
      "100\n"
     ]
    },
    {
     "name": "stderr",
     "output_type": "stream",
     "text": [
      "\r",
      " 60%|██████    | 30/50 [00:46<00:30,  1.51s/it]"
     ]
    },
    {
     "name": "stdout",
     "output_type": "stream",
     "text": [
      "200\n",
      "100\n"
     ]
    },
    {
     "name": "stderr",
     "output_type": "stream",
     "text": [
      "\r",
      " 62%|██████▏   | 31/50 [00:48<00:28,  1.52s/it]"
     ]
    },
    {
     "name": "stdout",
     "output_type": "stream",
     "text": [
      "200\n",
      "100\n"
     ]
    },
    {
     "name": "stderr",
     "output_type": "stream",
     "text": [
      "\r",
      " 64%|██████▍   | 32/50 [00:49<00:27,  1.55s/it]"
     ]
    },
    {
     "name": "stdout",
     "output_type": "stream",
     "text": [
      "200\n",
      "100\n"
     ]
    },
    {
     "name": "stderr",
     "output_type": "stream",
     "text": [
      "\r",
      " 66%|██████▌   | 33/50 [00:51<00:26,  1.57s/it]"
     ]
    },
    {
     "name": "stdout",
     "output_type": "stream",
     "text": [
      "200\n",
      "100\n"
     ]
    },
    {
     "name": "stderr",
     "output_type": "stream",
     "text": [
      "\r",
      " 68%|██████▊   | 34/50 [00:53<00:25,  1.58s/it]"
     ]
    },
    {
     "name": "stdout",
     "output_type": "stream",
     "text": [
      "200\n",
      "100\n"
     ]
    },
    {
     "name": "stderr",
     "output_type": "stream",
     "text": [
      "\r",
      " 70%|███████   | 35/50 [00:54<00:23,  1.57s/it]"
     ]
    },
    {
     "name": "stdout",
     "output_type": "stream",
     "text": [
      "200\n",
      "100\n"
     ]
    },
    {
     "name": "stderr",
     "output_type": "stream",
     "text": [
      "\r",
      " 72%|███████▏  | 36/50 [00:56<00:22,  1.58s/it]"
     ]
    },
    {
     "name": "stdout",
     "output_type": "stream",
     "text": [
      "200\n",
      "100\n"
     ]
    },
    {
     "name": "stderr",
     "output_type": "stream",
     "text": [
      "\r",
      " 74%|███████▍  | 37/50 [00:57<00:20,  1.60s/it]"
     ]
    },
    {
     "name": "stdout",
     "output_type": "stream",
     "text": [
      "200\n",
      "100\n"
     ]
    },
    {
     "name": "stderr",
     "output_type": "stream",
     "text": [
      "\r",
      " 76%|███████▌  | 38/50 [00:59<00:19,  1.61s/it]"
     ]
    },
    {
     "name": "stdout",
     "output_type": "stream",
     "text": [
      "200\n",
      "100\n"
     ]
    },
    {
     "name": "stderr",
     "output_type": "stream",
     "text": [
      "\r",
      " 78%|███████▊  | 39/50 [01:01<00:17,  1.61s/it]"
     ]
    },
    {
     "name": "stdout",
     "output_type": "stream",
     "text": [
      "200\n",
      "100\n"
     ]
    },
    {
     "name": "stderr",
     "output_type": "stream",
     "text": [
      "\r",
      " 80%|████████  | 40/50 [01:02<00:15,  1.58s/it]"
     ]
    },
    {
     "name": "stdout",
     "output_type": "stream",
     "text": [
      "200\n",
      "100\n"
     ]
    },
    {
     "name": "stderr",
     "output_type": "stream",
     "text": [
      "\r",
      " 82%|████████▏ | 41/50 [01:04<00:14,  1.58s/it]"
     ]
    },
    {
     "name": "stdout",
     "output_type": "stream",
     "text": [
      "200\n",
      "100\n"
     ]
    },
    {
     "name": "stderr",
     "output_type": "stream",
     "text": [
      "\r",
      " 84%|████████▍ | 42/50 [01:05<00:12,  1.60s/it]"
     ]
    },
    {
     "name": "stdout",
     "output_type": "stream",
     "text": [
      "200\n",
      "100\n"
     ]
    },
    {
     "name": "stderr",
     "output_type": "stream",
     "text": [
      "\r",
      " 86%|████████▌ | 43/50 [01:07<00:11,  1.61s/it]"
     ]
    },
    {
     "name": "stdout",
     "output_type": "stream",
     "text": [
      "200\n",
      "100\n"
     ]
    },
    {
     "name": "stderr",
     "output_type": "stream",
     "text": [
      "\r",
      " 88%|████████▊ | 44/50 [01:09<00:09,  1.58s/it]"
     ]
    },
    {
     "name": "stdout",
     "output_type": "stream",
     "text": [
      "200\n",
      "100\n"
     ]
    },
    {
     "name": "stderr",
     "output_type": "stream",
     "text": [
      "\r",
      " 90%|█████████ | 45/50 [01:10<00:07,  1.57s/it]"
     ]
    },
    {
     "name": "stdout",
     "output_type": "stream",
     "text": [
      "200\n",
      "100\n"
     ]
    },
    {
     "name": "stderr",
     "output_type": "stream",
     "text": [
      "\r",
      " 92%|█████████▏| 46/50 [01:12<00:06,  1.57s/it]"
     ]
    },
    {
     "name": "stdout",
     "output_type": "stream",
     "text": [
      "200\n",
      "100\n"
     ]
    },
    {
     "name": "stderr",
     "output_type": "stream",
     "text": [
      "\r",
      " 94%|█████████▍| 47/50 [01:13<00:04,  1.59s/it]"
     ]
    },
    {
     "name": "stdout",
     "output_type": "stream",
     "text": [
      "200\n",
      "100\n"
     ]
    },
    {
     "name": "stderr",
     "output_type": "stream",
     "text": [
      "\r",
      " 96%|█████████▌| 48/50 [01:15<00:03,  1.60s/it]"
     ]
    },
    {
     "name": "stdout",
     "output_type": "stream",
     "text": [
      "200\n",
      "100\n"
     ]
    },
    {
     "name": "stderr",
     "output_type": "stream",
     "text": [
      "\r",
      " 98%|█████████▊| 49/50 [01:17<00:01,  1.61s/it]"
     ]
    },
    {
     "name": "stdout",
     "output_type": "stream",
     "text": [
      "200\n",
      "100\n"
     ]
    },
    {
     "name": "stderr",
     "output_type": "stream",
     "text": [
      "100%|██████████| 50/50 [01:18<00:00,  1.57s/it]\n"
     ]
    }
   ],
   "source": [
    "mp.train_test_spliter_ML(subjects, label_mappers, [3,15], 'band_power_topomap_BTS_200', save_path='data_bts_trigg_200')"
   ]
  },
  {
   "cell_type": "code",
   "execution_count": 9,
   "metadata": {},
   "outputs": [
    {
     "data": {
      "text/plain": [
       "2500"
      ]
     },
     "execution_count": 9,
     "metadata": {},
     "output_type": "execute_result"
    }
   ],
   "source": [
    "len(os.listdir('data_bts_trigg_200/validation/15'))"
   ]
  }
 ],
 "metadata": {
  "kernelspec": {
   "display_name": "Python 3",
   "language": "python",
   "name": "python3"
  },
  "language_info": {
   "codemirror_mode": {
    "name": "ipython",
    "version": 3
   },
   "file_extension": ".py",
   "mimetype": "text/x-python",
   "name": "python",
   "nbconvert_exporter": "python",
   "pygments_lexer": "ipython3",
   "version": "3.7.5"
  }
 },
 "nbformat": 4,
 "nbformat_minor": 2
}
